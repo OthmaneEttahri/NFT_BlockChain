{
 "cells": [
  {
   "cell_type": "markdown",
   "metadata": {},
   "source": [
    "## Test et présentation du projet NFT"
   ]
  },
  {
   "cell_type": "markdown",
   "metadata": {},
   "source": [
    "#### Importations"
   ]
  },
  {
   "cell_type": "code",
   "execution_count": 2,
   "metadata": {},
   "outputs": [],
   "source": [
    "from scripts.NFT import Collection, NFT\n",
    "from scripts.timestamp import now\n",
    "import time"
   ]
  },
  {
   "cell_type": "markdown",
   "metadata": {},
   "source": [
    "#### Créer une collection"
   ]
  },
  {
   "cell_type": "code",
   "execution_count": 3,
   "metadata": {},
   "outputs": [
    {
     "data": {
      "text/plain": [
       "{'owner': 'OwnerPublicKey_1001101',\n",
       " 'limit': 4,\n",
       " 'mintingOpen': False,\n",
       " 'mintStart': None,\n",
       " 'NFTs': [],\n",
       " 'blockchain': {'type': 'Blockchain',\n",
       "  'blocks': [{'type': 'Block',\n",
       "    'issuer': '......',\n",
       "    'timestamp': 0,\n",
       "    'hash': '93ae8c7bcd3208b5...',\n",
       "    'signature': '...',\n",
       "    'index': 0,\n",
       "    'parent': '0000000000000000...',\n",
       "    'certificates': [],\n",
       "    'nonce': 0}]}}"
      ]
     },
     "execution_count": 3,
     "metadata": {},
     "output_type": "execute_result"
    }
   ],
   "source": [
    "ownerKey = \"OwnerPublicKey_1001101\"\n",
    "userKey1 = \"user1Key_1011001\"\n",
    "userKey2 = \"user2Key_0100110\"\n",
    "\n",
    "# création d'une collection\n",
    "\n",
    "collection = Collection(ownerKey, 4, 10) # remplis les champs : userPublicKey, limit et mintDuration\n",
    "\n",
    "# autorisation de user1 ( en tant que owner)\n",
    "\n",
    "collection.add_minter(userKey1, ownerKey)\n",
    "\n",
    "# affichage de la collection et test\n",
    "\n",
    "assert (userKey1 in collection.authorizedMinters) \n",
    "\n",
    "\"Success!\"\n",
    "\n",
    "\n",
    "collection.display()\n"
   ]
  },
  {
   "cell_type": "markdown",
   "metadata": {},
   "source": [
    "#### Ouverture de la période de Minting\n",
    "##### Test par utilisateur non propriétaire et utilisateur owner"
   ]
  },
  {
   "cell_type": "code",
   "execution_count": 4,
   "metadata": {},
   "outputs": [
    {
     "ename": "Exception",
     "evalue": "Pas autorisé à ouvrir le minting",
     "output_type": "error",
     "traceback": [
      "\u001b[1;31m---------------------------------------------------------------------------\u001b[0m",
      "\u001b[1;31mException\u001b[0m                                 Traceback (most recent call last)",
      "Cell \u001b[1;32mIn[4], line 3\u001b[0m\n\u001b[0;32m      1\u001b[0m \u001b[38;5;66;03m# Utilisateur non autorisé user2 par exemple\u001b[39;00m\n\u001b[1;32m----> 3\u001b[0m collection\u001b[38;5;241m.\u001b[39mopen_mint(userKey2)\n",
      "File \u001b[1;32mc:\\Users\\ettot\\Desktop\\cours\\S8\\BlockChain\\Projet\\scripts\\NFT.py:71\u001b[0m, in \u001b[0;36mCollection.open_mint\u001b[1;34m(self, userPublicKey)\u001b[0m\n\u001b[0;32m     66\u001b[0m \u001b[38;5;28;01mdef\u001b[39;00m \u001b[38;5;21mopen_mint\u001b[39m(\u001b[38;5;28mself\u001b[39m, userPublicKey):\n\u001b[0;32m     67\u001b[0m     \u001b[38;5;66;03m# ouvre la période de minting\u001b[39;00m\n\u001b[0;32m     68\u001b[0m \n\u001b[0;32m     69\u001b[0m     \u001b[38;5;66;03m# vérification de la clé de l'utilisateur\u001b[39;00m\n\u001b[0;32m     70\u001b[0m     \u001b[38;5;28;01mif\u001b[39;00m userPublicKey \u001b[38;5;241m!=\u001b[39m \u001b[38;5;28mself\u001b[39m\u001b[38;5;241m.\u001b[39mownerPublicKey:\n\u001b[1;32m---> 71\u001b[0m         \u001b[38;5;28;01mraise\u001b[39;00m \u001b[38;5;167;01mException\u001b[39;00m(\u001b[38;5;124m\"\u001b[39m\u001b[38;5;124mPas autorisé à ouvrir le minting\u001b[39m\u001b[38;5;124m\"\u001b[39m)\n\u001b[0;32m     72\u001b[0m     \u001b[38;5;28mself\u001b[39m\u001b[38;5;241m.\u001b[39mmintingOpen \u001b[38;5;241m=\u001b[39m \u001b[38;5;28;01mTrue\u001b[39;00m\n\u001b[0;32m     73\u001b[0m     \u001b[38;5;28mself\u001b[39m\u001b[38;5;241m.\u001b[39mmintStart \u001b[38;5;241m=\u001b[39m now()\n",
      "\u001b[1;31mException\u001b[0m: Pas autorisé à ouvrir le minting"
     ]
    }
   ],
   "source": [
    "# Utilisateur non autorisé user2 par exemple\n",
    "\n",
    "collection.open_mint(userKey2)\n",
    "# doit rendre une erreur\n"
   ]
  },
  {
   "cell_type": "code",
   "execution_count": 5,
   "metadata": {},
   "outputs": [
    {
     "data": {
      "text/plain": [
       "'success'"
      ]
     },
     "execution_count": 5,
     "metadata": {},
     "output_type": "execute_result"
    }
   ],
   "source": [
    "# utilisateur autorisé (owner)\n",
    "\n",
    "collection.open_mint(ownerKey)\n",
    "\n",
    "assert collection.mintingOpen == True\n",
    "\n",
    "'success'"
   ]
  },
  {
   "cell_type": "markdown",
   "metadata": {},
   "source": [
    "##### Test depassement de la durée de minting"
   ]
  },
  {
   "cell_type": "code",
   "execution_count": 6,
   "metadata": {},
   "outputs": [
    {
     "name": "stdout",
     "output_type": "stream",
     "text": [
      "True\n",
      "False\n"
     ]
    }
   ],
   "source": [
    "# obligation d'utiliser check_mint_period (pas de tache en arrière plan en synchrone)\n",
    "\n",
    "collection.open_mint(ownerKey)\n",
    "print(collection.mintingOpen)\n",
    "\n",
    "time.sleep(11)\n",
    "\n",
    "collection.check_mint_period()\n",
    "print(collection.mintingOpen)\n",
    "\n"
   ]
  },
  {
   "cell_type": "markdown",
   "metadata": {},
   "source": [
    "#### test minting"
   ]
  },
  {
   "cell_type": "code",
   "execution_count": 10,
   "metadata": {},
   "outputs": [
    {
     "name": "stdout",
     "output_type": "stream",
     "text": [
      "Mint effectué par le propriétaire: {'token_id': 1, 'metadata': 'TrafalgarToad.jpg', 'owner': 'ublicKey_1001101'}\n",
      "Mint effectué par l'utilisateur 1: {'token_id': 2, 'metadata': 'congratulations.webp', 'owner': 'user1Key_1011001'}\n"
     ]
    },
    {
     "data": {
      "text/plain": [
       "'success'"
      ]
     },
     "execution_count": 10,
     "metadata": {},
     "output_type": "execute_result"
    }
   ],
   "source": [
    "# Reset\n",
    "collection = Collection(ownerKey, 4, 10)\n",
    "collection.add_minter(userKey1, ownerKey)\n",
    "\n",
    "# test par un utilisateur authorisé (owner)\n",
    "collection.open_mint(ownerKey)\n",
    "token_id1 = collection.mint(ownerKey)\n",
    "assert token_id1 == 1 #Le premier token_id doit être 1\n",
    "assert token_id1 in collection.nftRegistry #Le NFT doit être enregistré dans le registre\n",
    "nft1 = collection.nftRegistry[token_id1]\n",
    "print(\"Mint effectué par le propriétaire:\", nft1.display())\n",
    "\n",
    "# user1 mint\n",
    "# ouvrir la période de mint\n",
    "collection.open_mint(ownerKey)\n",
    "\n",
    "token_id2 = collection.mint(userKey1)\n",
    "assert token_id2 == 2, \"Le second token_id doit être = 2\"\n",
    "assert token_id2 in collection.nftRegistry, \"Le NFT doit être enregistré dans le registre\"\n",
    "nft2 = collection.nftRegistry[token_id2]\n",
    "print(\"Mint effectué par l'utilisateur 1:\", nft2.display())\n",
    "\n",
    "\n",
    "# vérification que l'image n'existe plus dans le registre\n",
    "assert nft1.metadata not in collection.availableImages\n",
    "assert nft2.metadata not in collection.availableImages\n",
    "\n",
    "'success'\n",
    "\n",
    "\n"
   ]
  },
  {
   "cell_type": "code",
   "execution_count": 8,
   "metadata": {},
   "outputs": [
    {
     "ename": "Exception",
     "evalue": "Utilisateur non autorisé à mint",
     "output_type": "error",
     "traceback": [
      "\u001b[1;31m---------------------------------------------------------------------------\u001b[0m",
      "\u001b[1;31mException\u001b[0m                                 Traceback (most recent call last)",
      "Cell \u001b[1;32mIn[8], line 7\u001b[0m\n\u001b[0;32m      4\u001b[0m collection\u001b[38;5;241m.\u001b[39madd_minter(userKey1, ownerKey)\n\u001b[0;32m      6\u001b[0m collection\u001b[38;5;241m.\u001b[39mopen_mint(ownerKey)\n\u001b[1;32m----> 7\u001b[0m token_id1 \u001b[38;5;241m=\u001b[39m collection\u001b[38;5;241m.\u001b[39mmint(userKey2)\n",
      "File \u001b[1;32mc:\\Users\\ettot\\Desktop\\cours\\S8\\BlockChain\\Projet\\scripts\\NFT.py:93\u001b[0m, in \u001b[0;36mCollection.mint\u001b[1;34m(self, userPublicKey)\u001b[0m\n\u001b[0;32m     91\u001b[0m \u001b[38;5;66;03m# vérification autorisation du user\u001b[39;00m\n\u001b[0;32m     92\u001b[0m \u001b[38;5;28;01mif\u001b[39;00m userPublicKey \u001b[38;5;129;01mnot\u001b[39;00m \u001b[38;5;129;01min\u001b[39;00m \u001b[38;5;28mself\u001b[39m\u001b[38;5;241m.\u001b[39mauthorizedMinters:\n\u001b[1;32m---> 93\u001b[0m     \u001b[38;5;28;01mraise\u001b[39;00m \u001b[38;5;167;01mException\u001b[39;00m(\u001b[38;5;124m\"\u001b[39m\u001b[38;5;124mUtilisateur non autorisé à mint\u001b[39m\u001b[38;5;124m\"\u001b[39m)\n\u001b[0;32m     95\u001b[0m \u001b[38;5;66;03m# banque d'image vide (imprimerie)\u001b[39;00m\n\u001b[0;32m     96\u001b[0m \u001b[38;5;28;01mif\u001b[39;00m \u001b[38;5;129;01mnot\u001b[39;00m \u001b[38;5;28mself\u001b[39m\u001b[38;5;241m.\u001b[39mavailableImages:\n",
      "\u001b[1;31mException\u001b[0m: Utilisateur non autorisé à mint"
     ]
    }
   ],
   "source": [
    "# test de mint par un utilisateur non autorisé (doit retourner une erreur)\n",
    "#reset\n",
    "collection = Collection(ownerKey, 4, 10)\n",
    "collection.add_minter(userKey1, ownerKey)\n",
    "\n",
    "collection.open_mint(ownerKey)\n",
    "token_id1 = collection.mint(userKey2)\n"
   ]
  },
  {
   "cell_type": "markdown",
   "metadata": {},
   "source": [
    "#### Transfert de NFT"
   ]
  },
  {
   "cell_type": "code",
   "execution_count": 12,
   "metadata": {},
   "outputs": [
    {
     "name": "stdout",
     "output_type": "stream",
     "text": [
      "{1: <scripts.NFT.NFT object at 0x0000029213A30980>, 2: <scripts.NFT.NFT object at 0x000002921378FFE0>, 3: <scripts.NFT.NFT object at 0x0000029213A30AD0>}\n",
      "Transfert du NFT 1 réussi. Nouvelle propriété: {'token_id': 3, 'metadata': 'mickeyDog.jpg', 'owner': 'user2Key_0100110'}\n"
     ]
    }
   ],
   "source": [
    "collection.open_mint(ownerKey)\n",
    "token_id1 = collection.mint(ownerKey)\n",
    "nft1 = collection.nftRegistry[token_id1]\n",
    "\n",
    "# on test en transférant le NFT 1 du proprietaire à l'user2 \n",
    "\n",
    "print(collection.nftRegistry)\n",
    "result = collection.transfer(token_id1, ownerKey, userKey2)\n",
    "assert result == True\n",
    "\n",
    "print(\"Transfert du NFT 1 réussi. Nouvelle propriété:\", collection.nftRegistry[token_id1].display())"
   ]
  },
  {
   "cell_type": "code",
   "execution_count": 13,
   "metadata": {},
   "outputs": [
    {
     "name": "stdout",
     "output_type": "stream",
     "text": [
      "{1: <scripts.NFT.NFT object at 0x0000029213A30980>, 2: <scripts.NFT.NFT object at 0x000002921378FFE0>, 3: <scripts.NFT.NFT object at 0x0000029213A30AD0>}\n"
     ]
    },
    {
     "ename": "Exception",
     "evalue": "Error : Pas autorisé à transferer le NFT",
     "output_type": "error",
     "traceback": [
      "\u001b[1;31m---------------------------------------------------------------------------\u001b[0m",
      "\u001b[1;31mException\u001b[0m                                 Traceback (most recent call last)",
      "Cell \u001b[1;32mIn[13], line 5\u001b[0m\n\u001b[0;32m      1\u001b[0m \u001b[38;5;66;03m# utilisateur 1 essaye de transférer un nft pas à lui\u001b[39;00m\n\u001b[0;32m      2\u001b[0m \u001b[38;5;66;03m# doit retourner une erreur\u001b[39;00m\n\u001b[0;32m      4\u001b[0m \u001b[38;5;28mprint\u001b[39m(collection\u001b[38;5;241m.\u001b[39mnftRegistry)\n\u001b[1;32m----> 5\u001b[0m result \u001b[38;5;241m=\u001b[39m collection\u001b[38;5;241m.\u001b[39mtransfer(token_id1, userKey1, userKey2)\n",
      "File \u001b[1;32mc:\\Users\\ettot\\Desktop\\cours\\S8\\BlockChain\\Projet\\scripts\\NFT.py:141\u001b[0m, in \u001b[0;36mCollection.transfer\u001b[1;34m(self, tokenId, senderPublicKey, recieverPublicKey)\u001b[0m\n\u001b[0;32m    138\u001b[0m nft \u001b[38;5;241m=\u001b[39m \u001b[38;5;28mself\u001b[39m\u001b[38;5;241m.\u001b[39mnftRegistry[tokenId]\n\u001b[0;32m    140\u001b[0m \u001b[38;5;28;01mif\u001b[39;00m nft\u001b[38;5;241m.\u001b[39mownerPublicKey \u001b[38;5;241m!=\u001b[39m senderPublicKey:\n\u001b[1;32m--> 141\u001b[0m     \u001b[38;5;28;01mraise\u001b[39;00m \u001b[38;5;167;01mException\u001b[39;00m(\u001b[38;5;124m\"\u001b[39m\u001b[38;5;124mError : Pas autorisé à transferer le NFT\u001b[39m\u001b[38;5;124m\"\u001b[39m)\n\u001b[0;32m    143\u001b[0m \u001b[38;5;66;03m# met à jour ownerPublicKey du NFT\u001b[39;00m\n\u001b[0;32m    145\u001b[0m nft\u001b[38;5;241m.\u001b[39mownerPublicKey \u001b[38;5;241m=\u001b[39m recieverPublicKey\n",
      "\u001b[1;31mException\u001b[0m: Error : Pas autorisé à transferer le NFT"
     ]
    }
   ],
   "source": [
    "# utilisateur 1 essaye de transférer un nft pas à lui\n",
    "# doit retourner une erreur\n",
    "\n",
    "print(collection.nftRegistry)\n",
    "result = collection.transfer(token_id1, userKey1, userKey2)\n",
    "\n"
   ]
  },
  {
   "cell_type": "markdown",
   "metadata": {},
   "source": [
    "### Test de méthode d'affichage"
   ]
  },
  {
   "cell_type": "code",
   "execution_count": 14,
   "metadata": {},
   "outputs": [
    {
     "name": "stdout",
     "output_type": "stream",
     "text": [
      "{1: <scripts.NFT.NFT object at 0x0000029213A30980>, 2: <scripts.NFT.NFT object at 0x000002921378FFE0>, 3: <scripts.NFT.NFT object at 0x0000029213A30AD0>}\n",
      "Affichage de la collection : {'owner': 'OwnerPublicKey_1001101', 'limit': 4, 'mintingOpen': True, 'mintStart': 1741198978, 'NFTs': [{'token_id': 1, 'metadata': 'TrafalgarToad.jpg', 'owner': 'user2Key_0100110'}, {'token_id': 2, 'metadata': 'congratulations.webp', 'owner': 'user1Key_1011001'}, {'token_id': 3, 'metadata': 'mickeyDog.jpg', 'owner': 'user2Key_0100110'}], 'blockchain': {'type': 'Blockchain', 'blocks': [{'type': 'Block', 'issuer': '......', 'timestamp': 0, 'hash': '93ae8c7bcd3208b5...', 'signature': '...', 'index': 0, 'parent': '0000000000000000...', 'certificates': [], 'nonce': 0}, {'type': 'Block', 'issuer': '......', 'timestamp': 1741198940, 'hash': '0470a6830fafcf09...', 'signature': '...', 'index': 1, 'parent': '93ae8c7bcd3208b5...', 'certificates': [{'type': 'Certificate', 'issuer': '......', 'timestamp': 1741198940, 'hash': '66de65ed943357a3...', 'signature': '...'}], 'nonce': 0}, {'type': 'Block', 'issuer': '......', 'timestamp': 1741198940, 'hash': 'fd8e6285d3127436...', 'signature': '...', 'index': 2, 'parent': '0470a6830fafcf09...', 'certificates': [{'type': 'Certificate', 'issuer': '......', 'timestamp': 1741198940, 'hash': 'f2839e21ce0deed9...', 'signature': '...'}], 'nonce': 0}, {'type': 'Block', 'issuer': '......', 'timestamp': 1741198944, 'hash': 'b61ff91ad8210de8...', 'signature': '...', 'index': 3, 'parent': 'fd8e6285d3127436...', 'certificates': [{'type': 'Certificate', 'issuer': '......', 'timestamp': 1741198944, 'hash': '1f41751084a622fb...', 'signature': '...'}], 'nonce': 0}, {'type': 'Block', 'issuer': '......', 'timestamp': 1741198978, 'hash': 'fb4df7c11b458c23...', 'signature': '...', 'index': 4, 'parent': 'b61ff91ad8210de8...', 'certificates': [{'type': 'Certificate', 'issuer': '......', 'timestamp': 1741198978, 'hash': '742cd94d4afe0434...', 'signature': '...'}], 'nonce': 0}, {'type': 'Block', 'issuer': '......', 'timestamp': 1741198978, 'hash': '603e735f1cb0c262...', 'signature': '...', 'index': 5, 'parent': 'fb4df7c11b458c23...', 'certificates': [{'type': 'Certificate', 'issuer': '......', 'timestamp': 1741198978, 'hash': '742cd94d4afe0434...', 'signature': '...'}], 'nonce': 0}]}}\n"
     ]
    }
   ],
   "source": [
    "print(collection.nftRegistry)\n",
    "\n",
    "info_collection = collection.display()\n",
    "# doit contenir le propriétaire, la liste de NFT et la blockchain\n",
    "assert 'owner' in info_collection\n",
    "assert 'NFTs' in info_collection\n",
    "assert 'blockchain' in info_collection\n",
    "'success'\n",
    "\n",
    "print(\"Affichage de la collection :\", info_collection)"
   ]
  },
  {
   "cell_type": "markdown",
   "metadata": {},
   "source": [
    "## Scénario test\n",
    "### un ami a créer une collection de nft et m'invite à le rejoindre pour mint ensemble ??? transferer des NFT... \n",
    "\n",
    "#### On commence par poser les bases, créer la collection du point de vue de Splinter (l'ami) "
   ]
  },
  {
   "cell_type": "code",
   "execution_count": 15,
   "metadata": {},
   "outputs": [],
   "source": [
    "#Mon ami Splinter crée sa clé\n",
    "SplinterKey = \"OwnerPublicKey_Mon_ami_Splinter\"\n",
    "\n",
    "# Ensuit il déclare une collection, vide pour l'instant, Splinter met 2 NFT comme limite et 5 secondes pour le mint\n",
    "collection = Collection(SplinterKey, 2, 5)\n",
    "collection.add_minter(SplinterKey, SplinterKey)"
   ]
  },
  {
   "cell_type": "markdown",
   "metadata": {},
   "source": [
    "#### Splinter m'invite ensuite à mint "
   ]
  },
  {
   "cell_type": "code",
   "execution_count": 16,
   "metadata": {},
   "outputs": [
    {
     "ename": "Exception",
     "evalue": "Période de minting fermée",
     "output_type": "error",
     "traceback": [
      "\u001b[1;31m---------------------------------------------------------------------------\u001b[0m",
      "\u001b[1;31mException\u001b[0m                                 Traceback (most recent call last)",
      "Cell \u001b[1;32mIn[16], line 5\u001b[0m\n\u001b[0;32m      1\u001b[0m MyKey \u001b[38;5;241m=\u001b[39m \u001b[38;5;124m\"\u001b[39m\u001b[38;5;124mOwnerPublicKey_Moi\u001b[39m\u001b[38;5;124m\"\u001b[39m\n\u001b[0;32m      3\u001b[0m \u001b[38;5;66;03m# n'ayant pas trop idée de quoi il s'agit j'essaye de mint directement un nft\u001b[39;00m\n\u001b[1;32m----> 5\u001b[0m collection\u001b[38;5;241m.\u001b[39mmint(MyKey)\n",
      "File \u001b[1;32mc:\\Users\\ettot\\Desktop\\cours\\S8\\BlockChain\\Projet\\scripts\\NFT.py:85\u001b[0m, in \u001b[0;36mCollection.mint\u001b[1;34m(self, userPublicKey)\u001b[0m\n\u001b[0;32m     82\u001b[0m \u001b[38;5;66;03m# vérification de l'autorisation à mint\u001b[39;00m\n\u001b[0;32m     83\u001b[0m \u001b[38;5;66;03m# s'assurer de la période de minting\u001b[39;00m\n\u001b[0;32m     84\u001b[0m \u001b[38;5;28;01mif\u001b[39;00m \u001b[38;5;129;01mnot\u001b[39;00m \u001b[38;5;28mself\u001b[39m\u001b[38;5;241m.\u001b[39mmintingOpen \u001b[38;5;129;01mor\u001b[39;00m current_time \u001b[38;5;241m>\u001b[39m \u001b[38;5;28mself\u001b[39m\u001b[38;5;241m.\u001b[39mmintEnd:\n\u001b[1;32m---> 85\u001b[0m     \u001b[38;5;28;01mraise\u001b[39;00m \u001b[38;5;167;01mException\u001b[39;00m(\u001b[38;5;124m\"\u001b[39m\u001b[38;5;124mPériode de minting fermée\u001b[39m\u001b[38;5;124m\"\u001b[39m)\n\u001b[0;32m     87\u001b[0m \u001b[38;5;66;03m# dépassement de la limite de la collection\u001b[39;00m\n\u001b[0;32m     88\u001b[0m \u001b[38;5;28;01mif\u001b[39;00m \u001b[38;5;28mself\u001b[39m\u001b[38;5;241m.\u001b[39mnextTokenId \u001b[38;5;241m>\u001b[39m \u001b[38;5;28mself\u001b[39m\u001b[38;5;241m.\u001b[39mlimit:\n",
      "\u001b[1;31mException\u001b[0m: Période de minting fermée"
     ]
    }
   ],
   "source": [
    "MyKey = \"OwnerPublicKey_Moi\"\n",
    "\n",
    "# n'ayant pas trop idée de quoi il s'agit j'essaye de mint directement un nft\n",
    "\n",
    "collection.mint(MyKey)"
   ]
  },
  {
   "cell_type": "markdown",
   "metadata": {},
   "source": [
    "#### Mince la période de minting est fermée, j'essaye de l'ouvrir de mon coté"
   ]
  },
  {
   "cell_type": "code",
   "execution_count": 17,
   "metadata": {},
   "outputs": [
    {
     "ename": "Exception",
     "evalue": "Pas autorisé à ouvrir le minting",
     "output_type": "error",
     "traceback": [
      "\u001b[1;31m---------------------------------------------------------------------------\u001b[0m",
      "\u001b[1;31mException\u001b[0m                                 Traceback (most recent call last)",
      "Cell \u001b[1;32mIn[17], line 1\u001b[0m\n\u001b[1;32m----> 1\u001b[0m collection\u001b[38;5;241m.\u001b[39mopen_mint(MyKey)\n",
      "File \u001b[1;32mc:\\Users\\ettot\\Desktop\\cours\\S8\\BlockChain\\Projet\\scripts\\NFT.py:71\u001b[0m, in \u001b[0;36mCollection.open_mint\u001b[1;34m(self, userPublicKey)\u001b[0m\n\u001b[0;32m     66\u001b[0m \u001b[38;5;28;01mdef\u001b[39;00m \u001b[38;5;21mopen_mint\u001b[39m(\u001b[38;5;28mself\u001b[39m, userPublicKey):\n\u001b[0;32m     67\u001b[0m     \u001b[38;5;66;03m# ouvre la période de minting\u001b[39;00m\n\u001b[0;32m     68\u001b[0m \n\u001b[0;32m     69\u001b[0m     \u001b[38;5;66;03m# vérification de la clé de l'utilisateur\u001b[39;00m\n\u001b[0;32m     70\u001b[0m     \u001b[38;5;28;01mif\u001b[39;00m userPublicKey \u001b[38;5;241m!=\u001b[39m \u001b[38;5;28mself\u001b[39m\u001b[38;5;241m.\u001b[39mownerPublicKey:\n\u001b[1;32m---> 71\u001b[0m         \u001b[38;5;28;01mraise\u001b[39;00m \u001b[38;5;167;01mException\u001b[39;00m(\u001b[38;5;124m\"\u001b[39m\u001b[38;5;124mPas autorisé à ouvrir le minting\u001b[39m\u001b[38;5;124m\"\u001b[39m)\n\u001b[0;32m     72\u001b[0m     \u001b[38;5;28mself\u001b[39m\u001b[38;5;241m.\u001b[39mmintingOpen \u001b[38;5;241m=\u001b[39m \u001b[38;5;28;01mTrue\u001b[39;00m\n\u001b[0;32m     73\u001b[0m     \u001b[38;5;28mself\u001b[39m\u001b[38;5;241m.\u001b[39mmintStart \u001b[38;5;241m=\u001b[39m now()\n",
      "\u001b[1;31mException\u001b[0m: Pas autorisé à ouvrir le minting"
     ]
    }
   ],
   "source": [
    "collection.open_mint(MyKey)"
   ]
  },
  {
   "cell_type": "markdown",
   "metadata": {},
   "source": [
    "#### Mince, je ne peux pas faire ça non plus autant appeler Splinter pour lui demander de m'accorder les droits d'accés"
   ]
  },
  {
   "cell_type": "code",
   "execution_count": 18,
   "metadata": {},
   "outputs": [
    {
     "name": "stdout",
     "output_type": "stream",
     "text": [
      "{'OwnerPublicKey_Mon_ami_Splinter'}\n"
     ]
    }
   ],
   "source": [
    "MyKey = \"OwnerPublicKey_Moi\"\n",
    "print(collection.authorizedMinters)\n",
    "\n",
    "# une conversation téléphonique plus tard\n",
    "\n",
    "# Splinter m'ajoute en tant que minter\n",
    "collection.add_minter(MyKey, SplinterKey)\n",
    "\n",
    "# et comme il est prévoyant il ouvre la période de mint\n",
    "collection.open_mint(SplinterKey)\n",
    "\n"
   ]
  },
  {
   "cell_type": "markdown",
   "metadata": {},
   "source": [
    "#### Maintenant je peux mint mes premiers NFTs "
   ]
  },
  {
   "cell_type": "code",
   "execution_count": 49,
   "metadata": {},
   "outputs": [
    {
     "name": "stdout",
     "output_type": "stream",
     "text": [
      "Mint effectué par le propriétaire: {'token_id': 1, 'metadata': 'BlackLeg.jpg', 'owner': 'nerPublicKey_Moi'}\n",
      "Mint effectué par le propriétaire: {'token_id': 2, 'metadata': 'GokuChauve.webp', 'owner': 'nerPublicKey_Moi'}\n"
     ]
    }
   ],
   "source": [
    "collection = Collection(SplinterKey, 2, 5)\n",
    "collection.add_minter(MyKey, SplinterKey)\n",
    "\n",
    "#En parallèle Splinter rouvre la période de mint\n",
    "collection.open_mint(SplinterKey)\n",
    "\n",
    "# je mint mes NFTs\n",
    "token_id1 = collection.mint(MyKey)\n",
    "nft1 = collection.nftRegistry[token_id1]\n",
    "print(\"Mint effectué par le propriétaire:\", nft1.display())\n",
    "\n",
    "# trop bien ça marche j'en refais !\n",
    "token_id2 = collection.mint(MyKey)\n",
    "nft2 = collection.nftRegistry[token_id2]\n",
    "print(\"Mint effectué par le propriétaire:\", nft2.display())\n"
   ]
  },
  {
   "cell_type": "code",
   "execution_count": 20,
   "metadata": {},
   "outputs": [
    {
     "ename": "Exception",
     "evalue": "plus de place dans la collection NFTs",
     "output_type": "error",
     "traceback": [
      "\u001b[1;31m---------------------------------------------------------------------------\u001b[0m",
      "\u001b[1;31mException\u001b[0m                                 Traceback (most recent call last)",
      "Cell \u001b[1;32mIn[20], line 4\u001b[0m\n\u001b[0;32m      1\u001b[0m collection\u001b[38;5;241m.\u001b[39mopen_mint(SplinterKey)\n\u001b[0;32m      3\u001b[0m \u001b[38;5;66;03m# J'aime beaicoup je vais en mint un autre\u001b[39;00m\n\u001b[1;32m----> 4\u001b[0m token_id3 \u001b[38;5;241m=\u001b[39m collection\u001b[38;5;241m.\u001b[39mmint(MyKey)\n\u001b[0;32m      5\u001b[0m nft3 \u001b[38;5;241m=\u001b[39m collection\u001b[38;5;241m.\u001b[39mnftRegistry[token_id3]\n",
      "File \u001b[1;32mc:\\Users\\ettot\\Desktop\\cours\\S8\\BlockChain\\Projet\\scripts\\NFT.py:89\u001b[0m, in \u001b[0;36mCollection.mint\u001b[1;34m(self, userPublicKey)\u001b[0m\n\u001b[0;32m     87\u001b[0m \u001b[38;5;66;03m# dépassement de la limite de la collection\u001b[39;00m\n\u001b[0;32m     88\u001b[0m \u001b[38;5;28;01mif\u001b[39;00m \u001b[38;5;28mself\u001b[39m\u001b[38;5;241m.\u001b[39mnextTokenId \u001b[38;5;241m>\u001b[39m \u001b[38;5;28mself\u001b[39m\u001b[38;5;241m.\u001b[39mlimit:\n\u001b[1;32m---> 89\u001b[0m     \u001b[38;5;28;01mraise\u001b[39;00m \u001b[38;5;167;01mException\u001b[39;00m(\u001b[38;5;124m\"\u001b[39m\u001b[38;5;124mplus de place dans la collection NFTs\u001b[39m\u001b[38;5;124m\"\u001b[39m)\n\u001b[0;32m     91\u001b[0m \u001b[38;5;66;03m# vérification autorisation du user\u001b[39;00m\n\u001b[0;32m     92\u001b[0m \u001b[38;5;28;01mif\u001b[39;00m userPublicKey \u001b[38;5;129;01mnot\u001b[39;00m \u001b[38;5;129;01min\u001b[39;00m \u001b[38;5;28mself\u001b[39m\u001b[38;5;241m.\u001b[39mauthorizedMinters:\n",
      "\u001b[1;31mException\u001b[0m: plus de place dans la collection NFTs"
     ]
    }
   ],
   "source": [
    "collection.open_mint(SplinterKey)\n",
    "\n",
    "# J'aime beaicoup je vais en mint un autre\n",
    "token_id3 = collection.mint(MyKey)\n",
    "nft3 = collection.nftRegistry[token_id3]"
   ]
  },
  {
   "cell_type": "markdown",
   "metadata": {},
   "source": [
    "#### Ah mince c'est vrai que la limite de NFTs est limité à 2 (classique Splinter !)\n",
    "#### En parallèle Splinter essaye de mint un NFT mais erreur ! il décide donc d'aller voir la collection"
   ]
  },
  {
   "cell_type": "code",
   "execution_count": 33,
   "metadata": {},
   "outputs": [
    {
     "data": {
      "text/plain": [
       "{'owner': 'OwnerPublicKey_Mon_ami_Splinter',\n",
       " 'limit': 2,\n",
       " 'mintingOpen': True,\n",
       " 'mintStart': 1741199526,\n",
       " 'NFTs': [{'token_id': 1,\n",
       "   'metadata': 'GokuChauve.webp',\n",
       "   'owner': 'nerPublicKey_Moi'},\n",
       "  {'token_id': 2, 'metadata': 'SonicLane.jpg', 'owner': 'nerPublicKey_Moi'}],\n",
       " 'blockchain': {'type': 'Blockchain',\n",
       "  'blocks': [{'type': 'Block',\n",
       "    'issuer': '......',\n",
       "    'timestamp': 0,\n",
       "    'hash': '93ae8c7bcd3208b5...',\n",
       "    'signature': '...',\n",
       "    'index': 0,\n",
       "    'parent': '0000000000000000...',\n",
       "    'certificates': [],\n",
       "    'nonce': 0},\n",
       "   {'type': 'Block',\n",
       "    'issuer': '......',\n",
       "    'timestamp': 1741199526,\n",
       "    'hash': 'bc6b98596dea0bdf...',\n",
       "    'signature': '...',\n",
       "    'index': 1,\n",
       "    'parent': '93ae8c7bcd3208b5...',\n",
       "    'certificates': [{'type': 'Certificate',\n",
       "      'issuer': '......',\n",
       "      'timestamp': 1741199526,\n",
       "      'hash': 'd7a2327365dcd33c...',\n",
       "      'signature': '...'}],\n",
       "    'nonce': 0},\n",
       "   {'type': 'Block',\n",
       "    'issuer': '......',\n",
       "    'timestamp': 1741199526,\n",
       "    'hash': 'd6c05e782c4d7120...',\n",
       "    'signature': '...',\n",
       "    'index': 2,\n",
       "    'parent': 'bc6b98596dea0bdf...',\n",
       "    'certificates': [{'type': 'Certificate',\n",
       "      'issuer': '......',\n",
       "      'timestamp': 1741199526,\n",
       "      'hash': 'd7a2327365dcd33c...',\n",
       "      'signature': '...'}],\n",
       "    'nonce': 0}]}}"
      ]
     },
     "execution_count": 33,
     "metadata": {},
     "output_type": "execute_result"
    }
   ],
   "source": [
    "collection.display()"
   ]
  },
  {
   "cell_type": "code",
   "execution_count": 50,
   "metadata": {},
   "outputs": [
    {
     "name": "stdout",
     "output_type": "stream",
     "text": [
      "NFTs de la collection: {1: <scripts.NFT.NFT object at 0x0000029214656C90>, 2: <scripts.NFT.NFT object at 0x000002921475D430>}\n"
     ]
    },
    {
     "data": {
      "text/plain": [
       "b'\\xff\\xd8\\xff\\xdb\\x00\\xc5\\x00\\x04\\x05\\x05\\t\\x06\\t\\t\\t\\t\\t\\n\\x08\\t\\x08\\n\\x0b\\x0b\\n\\n\\x0b\\x0b\\x0c\\n\\x0b\\n\\x0b\\n\\x0c\\x0c\\x0c\\x0c\\r\\r\\x0c\\x0c\\x0c\\x0c\\x0c\\x0f\\x0e\\x0f\\x0c\\x0c\\r\\x0f\\x0f\\x0f\\x0f\\r\\x0e\\x11\\x11\\x11\\x0e\\x11\\x10\\x10\\x11\\x13\\x11\\x13\\x11\\x11\\r\\x01\\x04\\x06\\x06\\n\\t\\n\\x0b\\n\\n\\x0b\\x0b\\x0c\\x0c\\x0c\\x0b\\x0f\\x10\\x12\\x12\\x10\\x0f\\x12\\x10\\x11\\x11\\x11\\x10\\x12\\x1e\"\\x1c\\x11\\x11\\x1c\"\\x1e\\x17j\\x1a\\x13\\x1aj\\x17\\x1a\\x1f\\x0f\\x0f\\x1f\\x1a*\\x11\\x1f\\x11*<..<\\x0f\\x0f\\x0f\\x0f\\x0ft\\x02\\x04\\x04\\x04\\x08\\x06\\x08\\x07\\x08\\x08\\x07\\x08\\x06\\x08\\x06\\x08\\x08\\x08\\x07\\x07\\x08\\x08\\t\\x07\\x07\\x07\\x07\\x07\\t\\n\\t\\x08\\x08\\x08\\x08\\t\\n\\t\\x08\\x08\\x06\\x08\\x08\\t\\t\\t\\n\\n\\t\\t\\n\\x08\\t\\x08\\n\\n\\n\\n\\n\\x0e\\x10\\x0e\\x0e\\x0ew\\xff\\xc2\\x00\\x11\\x08\\x01\\x12\\x00\\xec\\x03\\x01\"\\x00\\x02\\x11\\x01\\x03\\x11\\x02\\xff\\xc4\\x00\\x98\\x00\\x00\\x00\\x07\\x01\\x01\\x01\\x00\\x00\\x00\\x00\\x00\\x00\\x00\\x00\\x00\\x00\\x01\\x02\\x03\\x04\\x05\\x06\\x07\\x00\\x08\\t\\x10\\x00\\x01\\x04\\x02\\x02\\x02\\x03\\x01\\x01\\x01\\x01\\x00\\x00\\x00\\x00\\x00\\x01\\x00\\x02\\x03\\x04\\x05\\x06\\x10\\x11\\x07\\x12\\x13\\x14 \\x15\\x08\\x160\\x11\\x00\\x01\\x02\\x03\\x06\\x04\\x06\\x01\\x03\\x05\\x01\\x00\\x00\\x00\\x00\\x00\\x01\\x00\\x02\\x03\\x11!\\x10\\x12 01Q\"ABa\\x04\\x13#2Rq\\x81\\x14@\\x913CPb\\xb1S\\x12\\x00\\x02\\x01\\x03\\x04\\x02\\x02\\x02\\x03\\x01\\x01\\x01\\x00\\x00\\x00\\x00\\x00\\x01\\x11!1A\\x10 Qaq\\x810\\x91\\xa1\\xb1\\xc1\\xd1\\xf0\\xf1@\\xe1\\xff\\xda\\x00\\x08\\x01\\x01\\x00\\x00\\x00\\x00\\x19E\\xc9\\xadi\\xe5MS\\x1c\\xacc\\xacE(\\x1f\\x0b\\x99\\xd5\\xeb3\\xe6P\\x89\\x900\\x8e\\x99\\xc7f}\\x1bd#\\x84\\xb3=\\n\\x12\\xd3\\xc6La\\xb2+\\x1e\\x97[\\xb5\\x94\\xc8\\x02*\\xe2\\xeb\\x1a\\t;\\x06\\xc6\\xe0\\xd4\\xbf\\x92~\\xc6\\xf5\\xec\\xe8\\xf03\\xc4\\x90\\xd7\\x02e\\xd3c\\x14\\xbc\\x18\\xc2n\\xd8o\\x01\\xce\\x12\\xf2\\xcf\\xcf\\x1d\\xa7\\xeai\\xb8\\xc5\\xc3\\xe6\\x9b\\xeb5\\x1br\\x89\"\\x00\\x03\\x8fC\\xe1\\x9e\\x80\\xdb\\x15YB|\\xe9\\xf2\\xfe\\xd9\\xf5(\\xb0S\\xb0\\xb9z:\\xd0,\\xfc\\xc8\\xa4r\\x90\\xff\\x004X\\x1bG\\xd1\\xfdT\\xfc\\xc9\\xfc\\xca\\xf3\\xfe\\xc1\\xf4\\xe3\\x1ca%\\xa1\\xc0\\xc2mp\\x16^\\x04QS\\x83\\xbe}\\xd8\\x96\\x97\\xf4\\xbd\\xe1^m\\xe0O%\\xa9\\xe8;\\xdb:\\xc6\\x8f\\xa1L\\xed\\x89\\xcd\\x95\"\\x14\\x04\\x1by\\x06E{M\\xaa\\xd9}\\xc7k\\xf8\\x0f\\x93\\x01d\\x03\\xb9ImOy\\xf4\\x15\\xcd\\xd1\\xb92\\xc7\\xd3\\xb4G\\x11\\xd9-\\xbe\\x15z\\x8c\\xd7\\x96\\xbc\\xbcG\\x08\\x08\\xf7wq\\xe5\\xac\\x931\\x91\\xcd#\\x89\\xf6\\x99\\x12\\xa3\\x8f\\xd9j\\xf8\\x96\\x80\\xe7\\xc8ac\\xcf\\xa9H1\\xee\\x01)\\xc3\\x89\\xdc~\\xfbn\\x8f(\\xd7\\x18\\xa6\\\\\\xe1\\xe0\\x12\\x15]\\xb4\\xafy\\x93\\xd0\\x16\\x9a\\xed~\\x06\\x0e\"\\n\\x0e\\x19\\x82E\\xfbf\\n\\x17\\xb3,eX\\xe9+T\\xa5oJ\\xbeY|!G\\xfa\\x02\\xe92\\x10H\\xda.\\x9a\\xdc\\x9bA\\xc5$\\xcf[\\xc9|\\xb3\\xeb\\xbfC\\xb3\\xca5\\x15\\x96\\xf1\\xbd\\xff\\x00q\\x06\\xfc^\\x11F\\xb3jQ\\xd2\\x89\\xa4\\x9a\\xf0\\x07\\xf0\\xa6\\xad\\xe9\\xe3\\xf9\\xaa\\xdf5\\x14k\\x1e\\x9a\\x9bn1\\x88\\x0cX\\xce\\x96H\\x1b$\\xe65\\xd3\\x8f;\\xe2\\xde\\x83Au\\x01\\xbby\\x9d\\x89\\xb7\\x14\\xc3\\xc9BL\\xacI\\x14\\x9b*z\\xed\\x90\\xdeS\\xc9}D\\xde\\xfdC\\xda\\xbc\\xde\\xf2\\x17\\xd2\\xad\\xd4\\x03\\x1d0\\xaf\\xce(Y\\x16\\xc2\\xadfy\\xd1|U\\x8f\\xed\\xb6\\'\\xd4\\xf8\\xd8\\x9c\\xfd/f\\xeb&\\x159\\x16\\xa9\\xbeL_\"\\xe1\\xadz\\xd2\\xa0\\xf8+;L\\x85\\x15\\x8cpW\\xddw\\xb4\\x9c\"5\\xeb\\t\\xda\\xaeqsE\\xba\\x1c\\x13\\xf9\\xd3\\x11\\xdcG\\x08\\x1b\\x83\\xae\\xfe\\xd7t\\xe5d\\xa1,@E\\xca\\xe6.2\\xd0%\\xc2<~\\xa7\\tS9\\xf8:n\\xfe\\x93\\x99}\\x0bfx\\x8a\\xbc\\xaa\\xd4+\\xda\\x9c\\x9f\\x82(f\\x1e)\\x921\\xca\\xdfaxn,w\\xab\\xad)\\x9b\\x9c\\xc0u\\x88\\x0bO\\xf0\\x8cgp!.\\xa41B\\xcd\\xa4\\x87w\\x17b\\xd8\\xf8y|\\xff\\x00C\\xee\\xadyr\\x8dIP\\x8bh\\x16!\\x0866e;\\xbb\\x99\\xfa\\xa2\\x0fB:p\\x0e\\xe7B\\x89\\xe6\\xe3G\\xe3\\xe6\\xb4hJ\\x80\\xf7w\\x07p\\xb6\\xd3=O\\x8ch@\\x8d\\x13G._\\xe6\\xd9\\x91\\x1a\\xdc\\x94\\x8fr\\x06E\\x17\\xb2\\xd1\\\\\\xc1\\xbe\\xc7\\xe9\\x8c\\xc6zG\\x90\\x8f\\xb0g\\xae|\\xe0C\\x00wr7kd\\xc5\\xb6]c\\x9e\\xb3\\x95X(\\x9b\\xf4\\xb9J\\x0b-P\\x9a\\xc8ruJ^\\x16\\xfb\\xce\\x98\\x01\\xc1\\xcb\\x1d<\\x9eb#T\\\\\\x08\\x0b\\x9d\\x0c\\xbbg\\xf1\\xa3N,d\\xbf\\xa1\\xaf%O\\x8d\\xdcs\\xc2\\xd1f`\\xb53\\x9d\\xaa\\xbcrd\\xa8i~P\\x86\\xd54\\xcbd\\xbaB\\x82\\x852\\x9c5\\xeaC\\xb9[\\xaf\\x19\\xb2\\xa7\\x16\\xd5(\\\\\\xd6\\xed}\\xb4\\xd3ndL\\x00T\\x1e4eg\\x1d[\\xd0\\x12\\x05Ic\\x97\\x81\\x86z\\xcf\\\\Q\\xa4l\\xfa\\t\\x15eJr@y\\xed\\xa1\\xe3n^\\x85Y5\\nr\\x82x\\xf3\\xcd}Z\\xa5\\x88\\xc8\\x8aNJsw\\x98J\\xbc;\\xf9\\xb7{\\xb0\\x9b\\x88\\x01\\xd8\\xeb\\x9d\\x88\\x95\\xfb\\x11R\\x12/\\xc6<\\'\\x97\\xe2}\\x0c\\xdf\\xca\\xb7\\xf8\\xbdsN\\x9e\\x16n\\x85\\xaeH\\xff\\x00b\\xadJ\\xbcK\\x92X\\xe4Pi4\\xcc\\x97\\xd3\\xf2\\x9e8\\xa9\\xaf\\x19i\\x9d\\x9d\\xf4L\\xe9\\x18\\xe3V}N\\x93t:&l\\xe8\\x00\\xe1\\x80R\\xb3\\xbd\\xd3|\\xf3\\xaeg\\x9bh\\x8eJ\\x97\\xff\\xda\\x00\\x08\\x01\\x02\\x00\\x00\\x00\\x00\\xa6\\x0c\\\\`.D\\xfaE4\\x00\\t`\\xe8\\xe8\\xf7\\xb7\\xac\\xec\\x15\\x95\\x8a1\\x13-\\xe5\\x1a\\xabk\\r\\xcb0J\\\\\\x1a\\x03p-\\xd9\\x9c#)\\xbd\\x02\\x18\\x8a\\xc7C1hb,\\xac\\x83H\\xad@\\x8f\\x16\\x00\"g6V\\x9a\\xcc\\xcb&\\xf2}\\xf5h\\xe7U\\xc9\\xe9$\\x17\\xd79t\\x02\\xbb[C\\x8a\\x93g\\x85P\\x96\\xa9e\\x14\\x87\\xad\\xa0\\x05A\\xb3\\xa3\\xaa\\x95\\xcd\\xe9\\x93J\\x06 \\n\\xd1\\xac\\x9a\\xa89\\xba\\x0fw?u\\x15M\\x84JW\\x93\\xb3L\\x12I\\xc4}\\xfa\\xd9\\xd9^,\\x84\\xda\\x16\\xcd\\x87?\\xb1\\xddVn\\xe0\\xe9\\xd3p\\xe8)\\x99\\xfd\\xdeU\\x93\\xaa\\xddf\"\"B~\\xaf\\x9c4\\x99\\xb3\\xebV\\x96\\xd4\\xdc\\x81\\xb9\\xb8\\x93\\x10Qme\\xd7\\xd1\\x17\\xa7G\\x90\\xa7/L\\xd5\\xda5\\x994\\xfc\\x13\\x94\\xc4\\xe0\\xab\\xcek]i2y\\xf8\\x8e\\x05\\x00d\\xa7\\x9dGD@\\xa8I\\xf8\\xa4\\x8c~^Za\\xe2P1\\xff\\x00\\xff\\xda\\x00\\x08\\x01\\x03\\x00\\x00\\x00\\x00\\xb4&\\x89D\\xa3\\xc6U \\x13\\xf3\\x94\\x9b\\x82l\\xa4\\x80\\xee\\xd8\\x8f+\\xc7nQB>q\\xc8\\x11\\xa1\\x8caK\\x8eP\\x83~\\xb2\\x0e\\x0cu;\\x93<\\x80?\\xa9\\x95\\x04\\x04@x\\'\\x0ei\\x837o\\x10&\\x00\\x02% \\xa7\\n\\x11*\\x1eO\\x87\\x8d\\xc2\\x91\\xf8&b\\x1b\\x91\\xea\\'\\xe10$p\\x0b\\xab6\\x9324\\xc8\\xb3\\t\\xf9.\\xe3\\xe8/Y;\\xea\\xb6v\\xe2Q\\xc7\"\\x02\\xb6\\x90h\\x04d\\xf2\\xaa\\xa9,6\\x9eG\\x98WvJ}\\x05\\x05\\x91 \\xceY\\x97I\\xb51\\xab\\xb6\\x92\\x8f\\xdc\\xbbA\\xb4\\x84\\xa0\\xa4\\xce\\xb7\\x18\\xa4\\xa5\\xa1R\\xf0;O\\xb9!i\\x1f \\xe8\\x048\\xceQ\\x11 \\xac\\xd3\\x87\\xb8\\x1e[\\x9dVa\\xd4@L\\x80\\xf7\\x14eUc%\\x00t\\x1d\\n\\x06\\xee)$\\x95\\x8e^%o\\xff\\xda\\x00\\x08\\x01\\x01\\x00\\x01\\x02\\x00\\xfb4\\xf0\\xd985\\x9c\\x86\\xbb\\x9c$\\x94\\x07\\xb7\\xa87g\\xc5\\xd5\\xe3\\xd8\"\\xaeG\\xe3\\xab\\x84d\\xe5\\x86!\\xc3\\xcf]\\x91\\x12eg7\\x05@\\xb3_\\xcd94\\x04\\xf5s\\xc9\\xd8\\xeb\\xd7\\x97\\xafk\\xa0\\xb3yL\\x0c~;\\x86\\xc4\\xd8x:\\x01\\x14\\xe2\\x821\\x19J\\xf1\\xf4>P\\xd5\\xbcU\\x8aro\\x1b\\x96[\\'{\\xc2;\\xc6.\\xbf\\xb7\\x1e\\xd6\\xac\\xbe\\xc6\\xc3{^\\xc6e\\'\\xad\\t(\\xf0Sx\\x9e\\x19i\\xbd\\xfe2\\x81\\xc4\\x00\\x00q\\xf3\\xf6ux\\x81\\xc0p\\x11\\x1b\\r\\xf9F\\x8b\\x8a\\x95\\xf8\\xe1\\xd2\\xef\\xb2\\n\\x0b\\xafk\\xb9\\x9d\\xb3x\\xf1VE\\xb2\\xb5\\xc0vW\\x9f2\\x0b\\xc3\\xb1\\xb9\\xc5\\xf66\\x08\\xa6\\xcf^\\xd5\\xeb\\xed\\xb3b\\xab\\xe4\\xe7\\xa3[\\xbe\\xdcC\\xbd\\xb9~\\xc1\\x1dY18c\\x81\\xcbSM\\xe0\\xbb\\xcd\\xa1x\\xab;\\x7fa\\xbf\\x99\\xff\\x00\\x9d\\xc2\\xe67\\x99p-\\xcd\\x80\\xbd\\x87\\x05=\\x01\\xed\\xed\\xd7p\\xe1\\xab\\x17\\xacF/\\x03\\xac\\x04\\x07r\\xbb\\xfd\\x07\\x8bQ\\xc9\\xad\\xf9\\x15\\xdeb\\x93\\xcc\\xd9o+]\\xf3.\\x0f\\xc9\\x10\\xe6o\\xd8\\xc6V]\\x92y\\xe8\\x97\\xcd\\x85\\xcf>8\\xb5\\xdcn\\xb5\\x0ek\\x13\\xb9\\xb5g\\xf3\\xb5\\xf6\\xff\\x003\\xee\\xdcF\\x9c{\\xe9\\x07\\xd0\\xccS\\xf2\\xf6\\xbf\\xfe\\x85\\xc4\\xf9.,\\xaf\\xcc]\\xed\\xf3\\x1b\\xcf\\xcb\\xdb\\xcf3\\x07\\xf4\\xacb\\xb2\\x91\\xd4\\xb3\\x95\\xc0\\xe0\\xb6\\x0b\\xee^[\\xd7\\x11\\xff\\x00\\xc9\\xb3\\xc1\\xb0V\\xdf\\x8f\\x95$\\xf2\\x1b\\xf7gmo\\xcc\\x7fT\\x07\\'6z\\xf7\\xa8\\xc1ci\\xa4rx\\x9c\\xd6w\\x17\\x94\\xf1uO\\x153\\xc4\\x99\\x9d\\x1f\\xf9N\\xa4\\xe6\\xf3\\xd8\\x0b\\xa2{]\\x81\\xd3\\xcf}\\x05j\\xb6J\\xb4\\xd6\\xe1\\x83!\\x83~\\xacu\\xf1\\xad7S8\\x07M\\x93\\xc3\\xda\\xc4iZL\\x1e\\x06\\xb5\\xfer\\x9b\\xfc\\xf17\\x80\\xa5\\xf0\\x94\\xde \\x9b\\xc6\\xf3\\xe9\\xb2\\xe1\\x9dT1\\x13\\xea\\x8a\\x0b~\\xad\\x1ez=\\xda\\xdf\\x90q\\x9b\\\\u\"\\xd46\\x8dW\\x19\\xe3Z\\xb8\\x06\\x0f4auLmX\\xfb$\\x92B{]N|&kT\\x83\\xc5\\xcf\\xf1(\\x08)\\x08p\\x19\\xa8\\xa7\\xc6oY\\xff\\x00\\x07N]V\\xe7\\x95\\xae\\xe2\\xa6\\xb7Q\\x8d\\xdavo\\x16\\xd2\\x00\\xa2\\xe7r\\x13\\x93\\x93\\xa3\\x8c\\x14\\x17}\\xb95\\x15\\x04{\\x067e\\xd6\\xf4\\x9d\\x8e\\r\\xc2]\\xab\\xc8\\xd9\\x9cF\\xd2\\xef%X\\xbc\\xfc/\\x8ef\\xec\\x93\\xc0D\\x93\\xdd\\xb91\\xf0\\xb5\\x14JyQ\\xab\\xd3\\xd7\\x89y\\xa8x\\xc1\\xb7\\xf1\\xf02\\xd6f-\\xa6M\\x9f\\x07\\r\\x8c?\\x8d\\xa4q\\'\\x80\\\\\\x80*\\xec\\x8ccS\\x90\\x0e=1\\xb2:\\x9cH/6[\\xd0\\xeej\\xfa\\xcf\\x904\\xda\\xda5}Y\\xf6)\\xeeWo\\xf8\\x9fmz\\xef\\x86\\xb4\\xb7\\xd9\\xce\\xa9\\x1f]\\xa2K\\x98\\xd6\\xac\\x8d\\xd8\\xa2\\xec\\xaf/\\xcd\\x1c\\xd8\\xfd\\xab=\\xb7\\xd4\\xdfr\\x19\\xbb\\x1bU\\xbd\\xfe\\xcd\\x98g\\xd07OQ\\xc7^\\xfd\\xdbuH\\x9c\\t\\x02T\\x13U\\xeb\\x18z\\x8d]\\xaf#\\xcf\\xd3\\xa1\\x15\\xcda\\x17\\xafK\\xd6\\x95\\xed?g\\x08\\x13\\xc7n\\xb2\\xd6\\xb9\\xa8\"\\xe0\\xd022\\xc4\\xce,M\\x9f\\xb7\\xcb\\x95\\x89\\xc7\\xe7\\xc7\\xd9\\xb6\\xe6\\xdb\\x91m\\x95+\\xf1\\xd1\\x02\\x1d\\xea\\x1b\\xd3\\x1b\\x93\\xbb\\x84\\xa9\\xc1\\x1eN\\xdcX\\xdeJ\\xe8~\\t\\xd6h\\x1a?F\\x15\\x16w\\x0f\\xbe\\xd7`N@\\xa6\\x07\\x99\\xcb\\x19\\xd7n\\x1eFk\\x7f\\x05G#\\x01<=\\xb4j\\xf1\\xda\\xbc\\xcdv\\xd1]w\\xc6b\\xf6\\n\\x91\\x1cl\\xfb\\x0e\\xc9 \\xe4\\x97M[\\x01.\\xb5,b\\xc3\\xe5\\xd6)~^<o\\x9c\\xf6\\xe9w\\xdbJ\\x0e\\xef7\\x9a\\xc9\\xe4\\xb6\\xb8\\x98\\xe2\\x9c\\xfa\\xd4q\\xb8N\\xbbp\\xb1\\x84\\x8bZ\\x8e?\\xcd\\xa90\\x9af\\xbf}\\xa4\\x95\\x9d\\xc8a\\xe8\\xa0v]\\xc2\\xed\\xb0\\xb25\\xe0p\\x92\\x86\\xb7\\x0c_\\xbe\\xd7j\\xc5\\xad\\x07Ps\\xb0\\x8c!\\x15E\\xa09m\\x9b\\xad\\x01\\xc0Vu\\xfa\\x98\\xde;\\x92\\xcb\\xa57E\\xc8bf\\xa1\\xff\\x00\\x0f.2{\\xcc\\xc8\\xea\\xbe-\\x077\\x9b\\xc7Q+\\xa2p\\xb4\\x96\\xfb\\x95\\xd5t\\xe9\\xe9 \\x8f\\xe0\\xa7\\xbb\\x1f\\xe26\\xf8\\xb2\\xae\\x81\\x06\\r\\x8c\\x0eEg08\\xad\\xa5\\xde[\\x9elv(\\x07\\'\\x1fN\\x9a\\xb7\\x0c~\\x91\\x7f\\xc9\\x98&\\xbd;\\x90\\x8b\\xf5=E\\xa4\\xf0\\x01@\\x04\\xd5)\\xd9\\xa2\\xc5\\xd4\\xd7\\xc0=\\x80\\xe4\\xde\\x03\\xe5\\x18\\x8c\\x9eJ\\x86_\\x18\\tN2\\xe4q\\x18=oJ\\x91u\\xd0\\x0e\\x01\\xa0\\x10\\xc5\\x93\\x9bu\\x04\\xe8\\x8do\\x0e\\x1d\\xb4\\x86\\x94]\\xe4\\xa85m\\xd7e\\xc0e\\xeb\\xe3\\xef\\xe3<h5\\xec-R\\xba \\xb5\\xab\\xb6\\xa1\\xc8[\\xc3\\xb6\\x1b:\\xad6\\xafg\\x1e\\xbd\\\\I\\'p\\xa7F\\xa7\\xc1\\x7fW\\xc0\\xebnt\\xc9\\xa8\\xbb\\xd8\\xbb\\xb6\\xa0\\x8a\\t\\xab!j\\x1c\\xf6\\xc1\\xbbl\\xdbm&v\\x1a\\xe7\\xb4v\\x9c\\x80\\xbf\\x1e\\xb1.1\\xcdkVF\\xce\\x12\\x02\\xe7\\xa0J`\\xe8\"\\x83s\\x99\\xdc\\x96M\\x98\\xf3F\\xd6\\x0b]\\xdc\\xa1\\xb6\\\\\\xe0\\xc4xr\\xed\\xc3X8\\x04\\xd5\\xeb\\x93P\\xc6x\\xf4p\\xe8rF\\xc9\\x7f\\xdb\\x05\\x80ri\\xa5\\x87\\xf1\\xb6T\\xb50\\x93 \\xec\\xa2\\xb0\\xed\\xd3\\xd7S\\xcb\\x89br\\x1ct\\x00\\x1d\\x01\\x9a\\xb5\\x84\\x8bq\\xcai5\\xf7\\\\\\x1dK\\xda\\xa6\\xe9r\\xde\\'\\xc9pl\\x11\\xcc\\xe5F\\xd8k\\x80|Rh\\\\flS\\x89v\\x8b\\x9a;\\x00\\xa0\\xb7\\x97j\\xd4\\xf2\\xd8\\xfc[\\x1f\\x1c\\x98\\xba\\xban\\xdb\\x9a\\x16j\\x08\\xb2\\xd1\\xee:\\xfbS\\xd4I\\xab@EN\\x82(\\'\"\\x82rb\\n\\xc9\\xdf\\xe5\\xc0?c~\\x81![\\xeb\\xf063\\n4\\x13Q?\\xff\\xda\\x00\\x08\\x01\\x02\\x00\\x01\\x02\\x00.*x\\xbb*H\\x00EWd\\xdf\\xa2\\xbeuR;Q=u\\x138\\xf5p\\xef\\xbf\\xab<s1b\\x85\\xa6\\xce\\x9b$-\\x98\\x80K\\x9d\\xc4\\x93>Ib\\xeb\\x16\\xe2\\xa5\\xc73\\x15\\xfc\\xfb\\x18\\xc7Q|e\\xbe\\xbf\\t\\x91\\x96\\x04\\x96\"\\xa37\\xde\\x8e\\xf0\\x93\\xbfda\\xf8>/\\x8b\\xb5\\x1c\\x96X\\xca\\x8d\\xa1\\x1e&\\xbe6w}\\xef\\xe9\\x8c\\xbf\\xf6\\x1b\\x97\\xfe\\xc9=\\xb5E-yD\\x9f;\\xadZ\\x91\\xdc\\x94K\\x89r\\x01\\xca\\xab[\\x07\\xd1l6\\x13\\x91]\\xf6\\xe7\\x12P\\x08*\\xe9\\xb2\\xfc\\xde\\xca\\xe5`O\\x0fD\\xa0\\x9c\\xe8Z\\xd6\\xfe+R~\\xaf&\\xadr\\xab\\xb8jrj\\xc7\\xd3D\\xc3JLg\\xd7\\xc4T\\xe3g\\xa6\\xf4SW\\xb6;\\x0f\\x169\\xf5\\xa9\\xe2\\xa2\\x85\\xcd5B\\t\\xf2_\\x9b\"\\n\\x91\\xd8\\xfaX\\xd8}\\x85p/\\xe5_\\xb2\\xc9\\xb2;9\\x06\\xc6\\xec\\xaeK#$\\x8er\\xc5Y\\xa1h\\'\\xd8\\xc9g\\xa7\\xb0\\xbaE\\xb0+\\x84\\xa2\\x89\\x89\\xf5\\xef\\xd8\\xd8_\\x90\\x7f\\xe7\\xd2&\\xd8.G\\x86\\xf1\\xeb\\xd2\\x1c\\xc6\\xd6F\\xf6\\xcb\\x0c\\x9c\\xb59F\\x1c[\\xf8\\x8e:\\xactRU\\xb3A\\xf4&MOQ\\xa2\\x9b\\xcb8\\xac\\x82\\x95XO_\\xff\\xda\\x00\\x08\\x01\\x03\\x00\\x01\\x02\\x00R\\xb7\\x9fnb\\x8d\\xe0q\\xd2*c\\xc4\\xcf\\x86N#c\\xdb\\xd8\\xfc:I\\xa4\\x07\\xab-\\x84\\xc7\\x13\\xe9\\xd6m\\xc4\\x10@pY\\xf5Lle\\xb8\\x94W\\xdf\\x94\\x82\\xf3\\xae\\xb5\\xedw\\xb7\\xb7\\xb2\\x0e\\x89\\xff\\x00\\x15\\xa8\\xddD\\xd0u~\\x83}\\xbeo\\x9f\\xe7\\xf9\\x80\\xf5k\\xab\\xcc\\xfb&\\xfc\\x99Y\\xf2Q3\\xe1\\xfa\\xff\\x00T\\xd4\\xfaf\\xa0\\xe5\\x8a`a\\x14c\\xa5\\xf1\\x81\\xd0\\x1d.\\xc7>\\xd5\"\\x9e\\xef\\xf4M\\x86B\\xd7!\\xc7\\xaf@p\\xd5\\x8e\\xafc^\\xff\\x00\\x9d\\xad\\x85}+\\xd4\\xc2\\x00~\\x99\\x15\\x18B\\x9d\\x88-\\x8e\\xcf\\xf6\\x99\\x9a\\x82\\xc7\\xe6\\x85\\xa6.\\xf2Y\\xaa\\xbb\\x11\\xbf\\xb3\\xe5\\x1c\\xd7\\x0c4\\xacq\\xe6\\xe5\\xc8\\xae\\xd6\\xcb\\xe5\\xf6\\xc9\\xae\\xb2A|\\xbb\\xdc*,\\x817\\x89\\xe6\\xbb#Xn\\xf7V\\x8f\\xf1\\xe3\\xc3\\x0ct\\x98\\xa6\\xe3\\xabUk@*\\xc3.E\\xd3 \\xad\\x89\\x86>\\xf8*\\x1f\\xc7_\\x1d\\x8a\\x11\\xe2\\xd9S\\xbf\\xc0dl\\xfc\\xb9\\x0f\\xd5(\\x0cU\\xdd\\x93\\xac\\x82\\x12\\'\\x11\\xc9\\xe3\\xdb\\x17c%a\\xb6\\x99o\\xe6l\\xf5\\xb8rg\\'\\x9cZ\\xbc\\xa5U\\xb8j\\xff\\xda\\x00\\x08\\x01\\x01\\x01\\x03?\\x02kh\\xc1x\\xaa\\xdeuN\\xcb\\xcd\\x06\\x89\\xcc\\x1c&r\\xe4\\x84c\\xdcr\\xc8\\xba\\xb9\\xe2\\x11b\\xbb\\xfdT\\xc3\\xc6\\xc6\\xc9\\xd1K\\x1bY\\xa2\\xbdSK\\x0b\\x9e\\xf6\\xb6\\x84\\x14C\\xa7\\xa3\\xdb\\xafu\\xe6\\xb6x`\\xb0\\xdd.\\xaa\\x0f\\x13\\x15\\n\\xf9\\x96!\\t\\xb3R\\x0ey\\xea\\\\.;\\x95%9\\x9c\\x81o\\xad\\x15=\\xfcP\\xff\\x00)\\xeci\\xbf\\x83\\xca\\x86\\xe7+\\xce\\'\\xba2,?\\x85\\xcf|!\\xa2e\\x1f\\x10\\xea\\xfbF\\x8b\\xfbm\\xd4\\xaf)\\x81\\xab\\x92\\xbb\\x91;$\\xb8\\xa2;|Wa\\xdd\\xde\\xcfY\\xb8\\x8cw\\\\o\\xb4j\\x846\\xfd/\\xee\\x1d]e\\xe7O)\\xac\\xd4\\xab\\xf4jkaT\\xa9\\xe1\\x9cYmg\\xae-`\\xea\\nz+\\x8cq\\xec\\xb8g\\xba\\xe1\\x96\\xe5]h\\x1d\\x95\\x15\\xd1\\x92\\xef\\x91NzpR\\t\\xf3\\xa1\\xc3\\xebX!E\\x13M`\\xbcM\\n|\\x7f\\xf5jj0\\x1dt\\xfbJ\\xf4\\x8a\\xe0o\\xd2\\x9b\\xd8;\\xd9y\\xd9E\\x80M\\xba\\xf3\\xb4\\xc42\\x08B\\xfb\\xc3\\'\\x83\\xbd\\x92_\\xfaVZ&\\x8eHl\\xaf\\x8d\\x13\"B\\x0c\\xe6\\xa1\\x10\\x05\\xe9&\\xc4\\x8c\\xd9\\x10d\\xa9\\xf6\\xa42\\x8c1\\'\\x0b\\xc1B\\x7fK\\x9a\\x98\\xed\\x1cB\\x89\\x0e\\xadz\\x8e\\xdd@rk\\xe8x]c\\xcb\\xa4\\xcaIEg\\xb9\\xb7\\x86\\xe9\\xb1\\xa4\\xd1\\xcb%\\xd0\\xcc\\xc1\\x92\\x8a9\\xceK\\xe6\\x14\\x18\\x9dI\\xa7\\xa8`\\x08n\\x99\\xf2\\t\\xb3\\xf7\\x04\\xcf\\x88C`\\x9a\\xeaI;\\xc3Tq3\\xfe+\\xc2hD\\xfb^Y\\xb8\\xff\\x00\\xe5\\\\\\x8avu\\x9dc2I\\xe3\\xa8\\xa8\\xad\\xeb*7\\xcdF\\xf9\\x95\\x17\\xe6TO\\x99N\\xdc\\xa7np\\x07P\\xa3\\xe1\\xce\\xec\\xff\\x00\\x8auA\\xcd\\xad%\\xa2\\x89\\x1c\\x01/oR\\xe4hP\\x8c\\xd9(\\x80\\xd1D(\\xfc\\x820\\xf9\\xcd;dv\\xfd\\x9d\\xe4|5z\\x17\\xea\\r=\\xa1I5\\xeaZ8\\xa7\\xfc\\xd1\\xe6\\xf2\\x86\\xe4\\xa8cU\\t\\xba\\t\\xa7\\xbcp\\xc2R$\\x11\"\\xa0x\\x86W\\xdc\\x147\\r\\x96\\xceO\\xf9(\\xaa0Q\\x87%\\x18t\\xa8\\x83\\xa4\\xa7\\x0eE\\x1c\\x82\\xe6H~P\\x82%u\\xc3\\xf0\\x81\\xe9)\\xad\\xd4\\x10\\x8c_k\\tQ\\x9d\\xa3$\\xa3\\xbbR\\x02\\x89\\x0c\\x0e>i\\x92\\x05\\xd3r\\x87\\x0f\\xa4\\x0b.\\xc4\\x17F\\xaa#\\x1c\\xd24v\\xaaX\\xc6\\xc10\\xf4\\x85\\x08\\xf4\\x05\\x07\\xe2\\xa0\\xfcq\\x82%-W\\xe9\\xab\\xd2\\xbc\\xd7\\xd3D\\x0c.\\xf6^\\xfc+\\x8c\\x1fjmo\\xd2\\xbe$\\xae\\x8f\\xa5\\xeb9\\xd2\\x98\\x92\\xe0\\x99\\xfce^vM\\xe2\\xbc\\xc6\\x16\\xee\\x8f\\x86l\\x9c5:\\xa1\\x04\\xb6\\xe5A\\x1cJ\\x19\\xeaP\\xc7P_\\xa8-\\x12\\x937Q \\x0b\\xb7o\\x84\\xeeP\\xca\\x8d\\x1f_L&\\xdc-\\np\\xfe\\xb2e\\x93\\xc9J\\xce\\x00\\xbd_\\xc2\\x84u\\x92\\x82\\xdd\\x94#BB\\x864(rir\\x89\\xe2I\\x07\\x80\\x05\\xe5E\\x904\\x95W\\xbfk\\xd93\\xa6M\\xe3;j\\xd0\\xae\\xc5\\t\\xb1\\x1e\\xf2\\xea\\xa8mh J\\xaa\\x0b\\x80\\xe1\\x1a(pc\\x80\\x06\\xa12\\x1e\\xc1\\x16\\xc6\\x89t^\\x9e\\x8b\\xcb\\x05\\xce<E\\n\\xb0\\xf3933\\xc8\\xad\\xd5+g\\x17\\xe9] \\xec\\x817\\x9a\\xfb\\xaeQ\"2\\xef\\t\\xee\\xa25\\xa0M\\xa2J\\xfb\\x83\\xdd\\x16\\xa3e\\x0f\\xbb\\xcav\\x8dhj/\\xd4\\xcd\\x16\\x99\\x8dB\\xf3\\xdb#\\xee\\x19\\x12\\xc7t.\\xa3\\x82q\\x9d\\x84a0\\xcd\\xe1\\xc9\\x08\\xed\\x07\\x9f<W\\x8c\\xb2<\\xc7IJ\\xd9\\x05z#\\x8f|-\\x90\\x03\\\\^TQZ\\x14\\xc3\\xd4\\x13w\\x08[\\xcf\\x1d\\xd0\\xb9\\xef\\x83\\xcb\\x17\\x06\\xa72u(XF\\x8e*+tt\\xd5\\xfe\\x17\\t\\x1c\\x8f1\\xd8}c\\x8a@\\xe1\\x9d\\x15\\xd1\\x87\\x9f0\\xaf\\xb1\\xa7\\x15\\xd0\\xae\\x8e\\xf8\\x04\\x16\\xf7\\xe4\\x8b\\x9fx\\xf3\\xc4\\xe7vN\\x08\\xb7Ql\\xf8\\xb1\\x872[b\\xf3_\\xd8`\\x10\\x84\\xca1\\x8d\\xe3\\xa2\\xa4\\xf0\\x17\\xe8\\x8304\\xf2MR\\xc5\\xcbt\\xd1\\x0c\\r\\n!\\xce\\x86zpHK\\x99WE\\xad\\x827)\\xd1L\\xdd\\xfcYx\\x1b\\'\\xa2&\\xaeR\\xcc\\xba\\x8cR\\x1e\\xed9\\x0b/D{\\xf0y\\x8f\\x9f!h\\x86\\x08o\\x13\\x95\\xee\\'jp5\\xd5A\\xba`\\x16\\r\\xd0\\xfbNv\\x8d*3\\xbb(\\xed\\xee\\xa37\\xa0\\xab\\xba\\x82\\xd5{\\xd8\\x0b\\x8a.!\\xf1?\\x84\\x186\\x08\\xc5\\xe1f\\x9c\\xca\\xb8%\\x82\\xe8\\xb0\\xc3\\x86HM\\x10\\xe7\\xab\\x9e\\x15\\xc79\\xbb\\x1c\\x8eCU{\\x89\\xce\\xaa\\x87\\xb9P\\xdb\\xc90t\\x8c-\\x8a\\xd2$\\x9b\\xe1\\x05\\xd7C\\xd3\\x9a\\xbf\\xfd6\\x12\\xa3x\\x88\\x8dk\\xcc\\x86\\xc8C\\xa0\\xc7~\\x1b\\x95\\xe8c\\xb2\\xba|\\xc1\\x8et\\x15%yu:\\xe5p\\x92Ph\\x12\\n\\xf4W\\x1d\\xb2&\\xbfM\\x10\\xb4\\xe8\\xed\\x10\\x8a\\xd9r(\\xc0u\\xd3\\xf8\\xc0>\\xd4X\\xda\\x0b\\xa16\\x0fs\\xbe\\\\\\x98\\xd1\\xddH~\\x15\\x1cw93\\x87\\xdd:\\x14\\x9b\\x17M\\xd3|Ki\\xaf$\\xef\\x0f\\xef\\x1f\\x94c\\x190M9\\xde\\xf7~\\x148\"\\x82\\xaaC.\\xf1\\xfa\\\\P\\xc7uu\\x85]crg\\x0c\\xa1\\x11\\x82u\\xa2\\x8b\\n$\\xa1\\x1awQ<G\\xf5\\x1c%\\xb2d\\x01\\xc2,\\xbe\\xef\\xac\\xbb\\xa11\\xa2\\xa4&\\x18\\xad\\xd8&<4\\x03\\xa9T\\x193\\x05p\\xfd)\\xc6=\\x85\\xb2\\x0b\\x9eP\\x82*\\x9d\\x1bS&\\xa0\\x86\\xc9\\xae\\xe5$\\xe8Rk\\xea7A\\xdad\\xc8\\xbcw^\\xb3\\xed\\xbcd\\xa5\\x95\\xe6\\xc4\\xec\\xdb\\x0cy\\x99\\xe8\\x8b\\r\\xd7Y\\xe6\\x02\\xaa\\xe8g\\x96L\\xa2\\xc4^\\xa4K(\\xa7\\\\\\xab\\xacq\\xec\\xafW\\xe4\\xbc\\x9an\\xa5\\x0cwW\\xdb>a\\x16\\xcd\\xda\\xcbUza:\\x1cF\\xb9\\xbc\\xd7\\'\\x89wL<\\xd0\\xde\\xc0\\xf11\\x83\\xd7w\\xd2\\xe2\\x89\\xf7g-\\xd4\\x86W\\xa4\\xe4\\xc1\\t\\xa5\\x08\\xf1dT\\x9a\\x06\\xcai\\xc2$H`Q\\xc9\\xde\\x1c\\xcfeA\\xb9O:s\\xddI8sO\\\\\\x03\\x07\\xae\\xef\\xa5\\xef\\xfb\\xb3\\x8f*\\x8b\\x85p\\x05\\xea\\x0bd\\xe3*\"Z\\xe9\\x99\\xaa\\xb5S\\x07\\xff\\xda\\x00\\x08\\x01\\x02\\x01\\x03?\\x02\\xfd\\x9c\\xd52\\xe9ms\\xeb`(fH\\xa0\\x86 \\x86\\x12QNF\\xd3\\x84~\\xd2\\x9f\\xe0\\xefXU\\xdc\\x92Q\\xca\\x9a\\x90\\xb6X\\xa6\\xabl\\xd50\\x01aE\\x15<\\x81a9U\\xb4\\x9f\\xdeS,Y[)\\x8e\\x98\\xbf\\xff\\xda\\x00\\x08\\x01\\x03\\x01\\x03?\\x02\\xff\\x00(r\\xa7d\\xc5\\x874 \\x86qF\\xc9e\\xd3\\x052\\xe8\\xa7`AK*C\\x0c\\xad\\x9e*\\xda\\x02j\\x1b\\xa9\\x99dIU\\t-\\x916\\x1c\\xb3d\\xf3\\xe5\\x9b/\\xdaM\\x06\\xa0s\\xe4\\xa63*\\xabe-\\xff\\xda\\x00\\x08\\x01\\x01\\x02\\x03?!rm\\x14]\\x11/\\x87\\x80\\xf8E\\xe0E\\xf3\\x8d\\xd1!\\xd3\\xe0\\x90l\\xa4\\xae\\xf7JUP\\x87\\xe0}&\\x94\\x8co\\x81\"R\\xa8N\\t-\\x1cU\\x0e\\x8f\\tA).\\xaf\\xb6\\x08\\x83\\x81g\\xc9\\x94B\\xb6\\xc9\\x11\\x18\\xda\\xc3\\xfa\\x1d\\x10\\xe4\\xeb\\x8d\\x0f\\x06\\xc9\\xb7\\x9a|\\x19b\\xc2Y\\xbe\\x88\\x1c\\xaf\\xf0\\xc9f6\\xf6)\\xcc@\\xdc:\\xb9\\x12\\xa9\\x10\\xa5}\\xa6,\"WM\\x867\\x15h>\\x91\\xd0\\\\\\x98[\\xb2\\x11\\xf0%\\x818\\xe8\\xad\\xbb\"q[tJ\\xeb\\xaa\\x8d\\xb2J\\xb5\\x8dE\\x12\\xca&j\\xb2\\x9d\"*M\\xc6\\x8b\\xe1\\xf0*\\x89\\x17Mr \\xaa6+\\x1c\\xed\\x8aVi:05&\\x86\\xc4\\x92\\xd2\\xb9:\\n\\x08L\\xab~\\xca\\x17\\x12\\xf4AR\\x10\\x88e\\x94>\\x17\\xa0s\\xbf,|;1\\xc7Z\\x11\\xa7>\\x87\\no\\x1b+\\xd1\\xbd\\xad\\x9c\\xd0!\\x94o\\xf21\\x95S}\\xcdD\\x9b,\\xa7E\\xbc\\xa2<\\r\\x05\\x07\\x89|M\\xa8\\'a%H$A\\x14\\x14\\x9a^[it\\xcbF\\xc9\\xab\\xa2RN\\xd5a\\nH\\xe2iQZ1\\x918D\\x91\\xe3$\\x942\\'%\\x92\\x02\\xe5\\xdf\\xc3\\x07\\x1e\\xe8\\xa9\\xea\\x1f\\x91\\x8a)\\xa2\\xcat3\\xd72F\\xdc\\x906\\x15\\xc0\\x16\\x85~\\x1c\\x86\\xc4I\\xc0\\x15\\x17\\xbc\\xb2\\xa9\\xf6[`\\x9et\\\\\\x89\\x94.\\x02?\\xe4\\x19\\xa3\\xec\\x11\\x7f\\x00\\xab\\xf8\\x85\\xb6X\\xf02\\xa30\\x12\\x12\\xcc\\xac\\xd4%\\x98\\xe4<\\n\\xae\\x87\\xa4P\\xbe\\xb4\\xf8]\\x8d\\xa2\\xca=\\x9f\\xcc\\x0fI\\x0c\\x0f\\xfd\\xe3]\\xbe\\xc7\\xfe\\xe3\\xff\\x00\\xa3I\\xd1\\x10Jd\\xf5P%\\x83\\x94\\xc7[\\xca\\xb6\\x12`\\xde\\x8dv\\x84\\xea\\xa4\\xd1\\xceG\\x1e\\xbc\\x0cBQr\\x84*\\x83\\x13\\xc0\\xe4\\x17!\\xff\\x00\\xe2H\\xd3R\\x98\\xf8\\xd7.\\x86\\xb7\\xfd\\xa1,%\\x08\\xaa\\xd5y\\x1d\\x98\\xe7\\x1c\\x19\\x12\\xc9{e\\x04\\xbf\\t\\r:}\\xa2\\xe1\\x16!\\xac*\\xa3\\x95z4\\xb21,\\xd1\\x83K\\x92_\\xfa\\x8b\\xff\\x00P\\x98hzN\\xda\\xc1\\xa0\\xa3(\\x85d\\xdfG\\xe5e\\x1a9\\xfb\\x93\\xd0\\x16\\xb9A\\xc1 c\\xec] e\\x8a)bUd\\x96\\x84uH\\x81\\x04\\xba\\xdd8_C]\\x9e\\x8b\\xff\\x00P\\xa4\\xa0\\x91\\xd5T|7{&Q\\xf8\\x0e\\xb2\\x97\\xbd,\\':\\x96\\xdc\\x0eQA\\x90W\\xda\\x0f-`\\x95\\xca\\n@\\xba\\x02r\\xabu1)1\\xbc&\\xdb\\x97o\\xe2\\xf1\\xaf\\x86\\xbb\\xb2\\xb1\\x15\\x81\\xd3\\x98\\xe1\\x801\\xd3\\xe1\\x9f\\xc6ds)\\xa9\\xd8]\\x996h\\xe6\\x8f\\xc3U\\xc4\\x8en\\x1c\\xbc\\xc8\\x92\\xb9\\xb5\\xf4\\xfe\\x18\\x10\\x9bw\\x7f\\x06\\x17d4O\\x96E$\\xec\\xc3\\xad5\\xe8\\xb6\\xd7\\xcb\\x15AB\\xa1.=\\x8dx\\xf0ti\\xc8\\xa7M\\x9a\\xa7%\\x17\\x93\\xf7\\xf0\\xc9|\\x08R6\\xbf\\xad\\x8dL\\xb3\\xa0\\xa4\\xeb\\xff\\x00\\x045\\x12\\xc8\\xca\\x93G\\xf8\\x14X+\\xef\\xeb\\x109/`J\\xe6\\xbbp=\\xa3c]\\xd7\\xe1\\x93rt\\x95L\\x90KXW\\x02\\x0b#\\xb0$\\xec\\xc6\\x9d\\xc9\\xc8\\xa3r&D\\x90\\x02\\xb9o\\xcc\\xa0\\xca\\x13\\xceGK\\x98I\\xf1`Hl\\\\[#X^HoLl\\x96\\xee=\\x9e6\\x89\\x8b\\xb1vt#b\\xf4\\xdbW\\xb13q\\xe1|\\r+er\\x11\\xc6\\xb27\\x84\\xce\\xe9\\xb6\\xc2\\x1f\\'\\xb9\\xa1C\\xab\\xc1c\\xec\\x1f\\xfb\\x86\\xcazB*\\xf9\\xef\\x9b\\x96B\\x95\\xf6\\x13\\xdb\\'\\xff\\x00\\xdf\\x8e\\xb5x\\xd1\\xdb^\\xcbhl\\xb7\\xab?\\xed\\x04%\\xbe\\x8e\\x11\\x14\\xd6GU\\xf8\\xdc\\x90j[\\xb3\\xdb$\\x99![i\\x0eD\\xcf\\x01_;\\xa4\\xe5\\xd8\\xaa\\xee\\xd8\\xc3n\\xa1\\xff\\x00\\'\\xdb\\xed\\x88\\x91i\\xa6^\\x04%Y%%\\xe3u\\x1f\\x86I\\xb8m\\xb7<h1\\xab\\x8c\\xf0\\xb2zi\\x13\\xd4Li\\x03\\xa8\\x85\\xc9\\xd8\\xf5\\x9b\\xe8\\x97\\xbe\\x85B\\xa2\\xddd\\xbd(\\x83J\\xa6U\\xe4\\xad\\xbc\\xb6Rp\\x1eg}y\\xcd\\x91+\\xa64B\"S\\xc0\\xe8I\\x19\\'\\xa1R\\xa9\\xf2$\\x97\\xe8U\\xc2\\xdc\"\\xbc\\x1cSq<\\xec\\x99\\xb5,\\x01\\x8c\\x0e\\xf1\\xf2cc0-\\xb6#\\x89\\xa8\\x96N\\x03\\x0f\\xa2/n\\xe0\\xc4\\x8b\\xa6\\x9dK\\x8e\\xf0~\\xd0:\\x1a\\xb4\\xa7\\x12\\x8a\\x19\\xeb\\x02\\x89\\xb2>^\\x97A\\xd3\\xec\\x98U\\x06\\xdfcs\\xd1\\xf06\\xd5F(y6\\x04\\xbb\\x0eae\\x02X\\xd8\\xd0\\x93\\x83\\xd6\\x9a\\xe0K\\x0c\\x1d\\x9b&\\x0ft\\xe0T6\\xce\\xf8\\x9c)\\xfa;\\xe9\\x0f\\xd0\\xd7a\\xdcN\\xabse\\xfc`K\\x1c\\xbf\\xe3\\xe1\\x84\\xc4\\xd5\\'.\\x08aQ\\x1e\\xac\\xb7\\xc1c\\xb1\\x98\\xf5b\\xb8\\x1cz\\xa2\\x83)\\xa6[\\x12\\x8a[\\xa1\\xb1\\xc8\\xb2\\xbf\\x9f\\xb7\\xc5\\t.N\\xc1OO\\xe8O7\\xf8m\\xd8\\xe8\\xf8\\x10\\xb4A$j\\xca\\x15a\\x90\\xc8^\\x85B~\\x8a\\xb1t(\\xfc%\\x9eg\\xf1\\xf8D\\xf2\\x04\\x9e\\xa1\\x11\\xb2\\xd4\\xbf\\x7f\\x0f\\x8bQ\\x12\\xc1\\x85+\\xd7Mb%\\x11\\x81\\x01)\\xf3\\xce\\x91\\xac\\x08\\xa7\\xc5;t%U\\x19\\\\\\xf0HF\\xb2<\\x0b\\xe1\\x8f\\xcad\\xc7\\x93\\xda\\x8a\\x13\\xc9\\xfcS\\x1a\\xae\\xc8}l\\x08ZD\\x9cg \\xac\\xc6\\xf0T\\x10\\x9dI\\xfc=\\x19\\x9e\\xa5\\xac\\x0b\\xec\\x87\\xc5.h\\xfb?\\x05\\x88\\xa5\\x05\\x8c\\xf0\\xf9\\'\\xd0\\xa6\\xda\\x06\\xabX\\xcf\\xc3\\x03\\x92]\\xebHg\\xc1\\'\\xf1z\\x86<\\x8d$\\xd0L\\xf2\\x13\\x17\\xac\\\\\\xd0j8\\x14|\\xd8\\xbat\\ng\\xb2\\xbe\\x04\\x10\\xb5\\x1a\\xc8\\xf4J\\xa2{!\"[\\xa2\\x91\\x10/\\x8a<c\\\\L\\x13\\x18Xn\\xc2E\\x14E\\x05$\\xec\\xd12\\xf2\\xe1\\x0e?\\xd3\\x81B\\xb9\\x04\\xc5\\x97\\x06\\xaa\\xb5-\\xb8\\xb9#\\xc7\\xb5P\\xeaRWew\\x1c\\xaa\\xed\\xa3\\xf4\\x8eo\\xa3q\\xa5\\x17T%J\\x1d\\xdc\\xe8\\xd1\\xb3\\xff\\xda\\x00\\x08\\x01\\x02\\x02\\x03?!\\'c[k\\xba\\x85#I\\x0bT\\x91\\xba\\x05\\xb0\\xa1\\x17\\x13\\xd2\\x9f\"\\xe0\\xa2\\xd1\\xad\\x8fg,}d.6E\\xce\\xc4p8\\x0bqc\\x91\\x17d!21\\xe8\\xb6\\xa0B\\x10\\xbeSgbD\\xdb\\xe3\\xa6\\xdc\\xfc2\\xf7Y\\xa9\\xdd\\xb9\\xc4\\xec\\x14d)\\xd6T\\xedq\\x14hrr \\x84%\\xa4\\x16\\xed\\x12\\xd0\\xaf\\xaa\\x86\\xd2\\x9a\"\\xc4\\xbda\\xc6\\xa9v$\\xa11\\xb2\\xf6\\xd0\\xae\\xc8\\x11Q\\xa5\\x08m\\xca\\xee\\xa1]\\xb4\\xf8$kf>\\x15\\n\\t\\x95\\xeb\\xe5\\nm\\xff\\xda\\x00\\x08\\x01\\x03\\x02\\x03?!\\xff\\x00\\xc7\\x05u\\x92\\x17\\xc5B\\xa4\\x91\\xf0N\\x906B\\xd1\\xa1\\x86\\x89\\xf8P\\xc5\\xd8>\\x0e\\x03C\\xd2\\x07\\xba\\x05\\x9dD&\\xc8\\x91\\x0b\\xe4\\x19\\x0f\\x8e\\xe8!\\xdbF\\xec\\x87\\xf1\\xa7I!\\x06D\\x9f\\xc3-jT\\xa6\\x89dB\\x16\\xe2K\\xaea\\xb2B~$P\\xc8\\\\\\xe0\\xc3\\x17H,\\x97\\xac\\x91\\xb2\\x06\\xde\\x90\\x89\\'G\\xfa\\x04\\x84\"\\xb6\\xdb:\\xb67\\x82\\x1f*\\xff\\x00\\xc8\\x90\\xba\\x8b!\\xd3Y\\xd2\\x9b\\xeaK\\x1d\\x82\\xab}i\\xa5>\\x12\\x85z\\xff\\x00\\xff\\xda\\x00\\x08\\x01\\x01\\x02\\x03?\\x10\\xab0.\\x856\\xd5/\\x13\\x17\\xd1\\x92k\\x8fC\\xa95`\\x9e\\xab\\xc6\\xbf\\xd1>\\xb89\\xd6\\x06I(\\xf1O$\\xb7_\\xe0\\x8dj~X\\x86\\x90\\xfc\\xc3\\x0c\\xc3\\x90\\x86rGQ!0\\x89\\xd3\\x8d\\x12p\\xc90\\xba\\x12\\xfeH\\x19n\\x17hNU\\x94@\\xd5\\x8cD\\xfa\\x821R\\xa4\\xb9\\x95\\xb1+\\xd1%^\\x86\\xfe\\xac\\x18\\x90\\xa1*\\xa2\\xa8\\xec\\x03L$D\\x84\\x91\\xb5\\x82\\x93I\\xa9R[*\\xaa\\xe9\\x05\\xd8\\x1c\\xf2t\\x08u\\xcdO\\xc1\\xed\\x82tH\\xa3\\x90\\x86\\x7f\\xb0\\xbf\\x92FhL\\xeb\\x10+W\\x96+\\xab\\x14\\x1c\\xd3\\xe9\\x8e\\xe4\\xa9\\x15x\\xbf\\x01\\xb3\\x98-\\xb1\\x85\\t\\x96e\\xc00\\x8a8=\\x87$\\x92\\x1f\\x94|\\t)\\xc0\\xda\\x1c\\x8fm\\xd1&\\xe5\\x10\\xdbu\\xd28\\x12BUk\\xd1\\x9e\\x8c\\x98\\xd5&\\x9aWH\\x17V:8\\xb0\\xe3\\xf6Y\\x85\\x1f\\xad\\x90\\xdfJY $\"dJ\\xaav\\xbf\\xb2\\x9d$\\xe6\\x11a\\xb3\\xaam\\x0b\\x10N\\xd8\\xe0\\xb9\\x94JV;\\xa8\\xc75qL\\xad\\xe4L\\xab\\xc5\\x8d\\xecl\\xa8\\xa0\\xb4t<~\\xca\\xbaq\\xfa2\\xb7.\\x83\\xce\\x11\\x13\"\\xca;\\x03\\xb5%\\xd8\\xb9\\xcd\\xfc\\xcaG\\xccO\\xec%\\xc8!\\x05/\\x07\\xdd\\x08\\x137\\xd9\\x0fj\\xab\\xbe\\xc7c\\xe5\\xc2\\x8aV\\xa5\\x15\\xa4\\x94p7\\xe9\\x98\\xe9\\t\\xf3\\x15\\xd6)\\xc8\\xea\\xd9ik\\xe2\\x10]!v\\xd0b\\xb9\\xb7\\xf2\\x11\\xa6r\\xfc\\x03\\xd3\\x1c\\xc1Ob\\xa3\\xd9\\x1a\\xdf\\xd0sN_L\\xf5I/\\x02\\x16\\x1e\\xcc\\xeb\\x9d\\x18\\'\"\\x88~\\x05(\\x8a\\xa8La\\xdb:\\xb4\\xacL\\x06Ul24B\\x9f\\x03[C\\xa2\\xe0\\x12\\x99\\xd0H0W0\\xb49\\xa2\\xf0\\x0f\\xd0\\xa4\\x95\\xa0\\x01\\x16\\x1e\\xa4\\xac\\xf0\\'i\\xd5\\xa8V\\xf64\\xeft\\x12\\x82dZ\\xb10\\x84\\xdd2\\x82\\xbd\"\\xc2=\\xce\\x16-\\xc8\\x8b}CcLW\\x8e\\x0c\\xadW\\xc9\\xf7\\x12\\x86ejv9\\xd7\\x81\\xf3\\x10\\x7f3\\r:\\x0e\\xe8\\xf6\\x80\\x94\\xdc\\x86K\\xe1\\xaf\\xec\\xb0\\xaf\\xda\\x17$l\\xfbE\\xcf\\xb1\\x08\\xaf\\xde\\x8a\\x84\\xc5\\xe9\\xfe\\xcaA\\xff\\x00y ~!\\x19!\\x19$*\\xc4\\x05\\xe4\\x0fFYV\\x97N\\x98\\xac\\x8f\\xd8)EfflE\\xb7O\\xc5\\xff\\x00D\\xe6q\\xf9D\\xd7`G\\xc7\\xfd\\xe0c\\xee\\r\\xafrE\\x07\\xfbR\\xef\\xd9)\\xfb\\x08\\xd9\\x93N\\xa2D\\x0c\\xa0\\x944\\xfb*\\x06\\xe5\\x85\\xf0\\x8c`\\xf3\\x15\\tG\\xeb\\x08\\x01\\xf8\\x13le\\x14p7\\x92>HL|1^\\xe5\\xf2\\xe1\\xb2W\\x085\\xbd\\x08\\xb8\\xbfBz\\xd3\\x93\\xaf\\x8e4\\x96@\\xab\\\\+\\x8e\\xf9o\\xeaK\\x8b\\xfe\\xc1E\\x11\\x81\\xd4|T\\x7f\\x8d!^/\\x05\\xf5\\xe1\\xc19q\\xe4G\\xdb\\x98\\xf68\\xe4\\\\x:\\x85\\x08[\\xf2+\\x07Q\\x91\\xa7P\\xbf\\xe5ZU}\\x98\\xac\\xe7\\x97~\\x93\\x89\\xe8\\x1a\\xe2\\xdd\\xad\\x0f\\xfc\\xb60@\\xb2\\xd9t,\\xae\\x85\\x14\\xaa\\xc2\\xe0o6\\x8e\\x8e\\x82\\xa0E\\x0enZ%\\xfe\\xacZ./\\x03\\x9d\\xb4\\x08\\xb9\\x10\\x8any\\x14Ur%\\x94a+D\\x0e\\xc9\\x01\\xfc\\x8f\\x9b\\xfb\\xe2\\x08l$\\xf9\\xd7\\xa1\\x9d\\xfe\\x04\\x07\\xd4\\xad+\\xa0\\xcc\\xef6\\x12\\x10\\xa8}\\x0c\\x98\\xb7,\\xd1\\xd8\\xed\\x9d\\xb2Ffz\\x07\\xaa\\xfd!\\x0c\\xaa\\xaa\\x10n\\x94\\xe1\\n\\x8c\\x89H\\xbe\\x89\\t\\xd9a\\xde\\x08\\x93J\\xef\\xa1\\xc5|\\xaf\\xb2\\x10\\xea2\\x96\\x0b\\xed{!_\\xd2\\x7f[\\'I!2BT\\xb4\\xc4\\xa4\\xaa\\xb5=\\x82\\xba\\x14\\x13v\\xbb S\\xa9\\x98uQ\\xfb\\x8f_\\xfc\\x12\\xe2\\xa6\\x96:\\xaa\\xec\\xa8Qa\\x0e\\x0eq\\x02=\\xde\\xfd\\x05\\xf8\\xde\\x89X\\xc1,zgX\"\\x19P\\x8d{~\\xf4B\\xe0.K\\x0c\\x0fC\\x11?\\xc0\\xf4\\x95O\\xd8\\x9f\\x0c^\\x1fB\\x9dP\\xe4\\'\\x89$\\x99\\x15\\x03X\\x13q\\xe9\\x15\\x14\\\\\\x01\\x12\\x8a\\xee\\x89#}\\x8a5F4\\x919\\xac\\x8b\\x00\\xb4W\\xb8.;cz\\x12/IC\\x1e\\xb2\\x8a/\\x1b\\x1eE\\xa8\\x92|\\x93@\\xab\\x8fxh\\x8e\\xd8UY\\x17\\xfe\\x1e\\xc22Wl\\x10\\x99\\xc6\\x10B$K:\\xa0\\xbcr\\x12\\x0c\\x12F\\x92\\xbeUy\\x13m\\xcb\\x96~\\ne]1\\xd1I\\x96\\xe2\\xc2DL\\x06;\\x12\\xa3\\x18\\xe1\\x17\\xf2=\\xce\\x0b\\xa1\\xd0\\x12\\x08I\\x8e\\xac\\x89\\x9b\\xaclIR_DB\\xbd\\xbd\\'U\\xa6\\x12M\\xae\\xc6\\x8d\\xc3\\xd2\\xd1i})\\x12\\xf6Iu!-\\xf9\\x1d\\x93\\xecK.\\xc6\\n?\\x93\\xfeh\\xbe\\xf25]\\x00\\x9d\\x83\\xe2UBw\\xa5Ji\\xec\\x87\\x11\\x10\\x84C\\xe8D\\xbd(r\\x12\\x12\\x12\\xc9\\xaa\\xb5\\x18\\xfaEval\\xa3\\xf1b#+\\x92\\xb6\\xd5\\x195N\\x82*\\x1f\\x03\\xfa!g\\x89\\rT\\x9b\\x13>\\x11>\\x11i$\\xe9R\\x10\\xaa0!\\xbb\\x98\\xd6\\xc40M>\\x86\\xaa\\xee\\xeb\\xd9\\xbd\\xa9mHM\\xd6{\\x18&,\\x7f\\xb7\\xb3\\rv)\\x00\\xccIL\\xf3\\xc8P\\x9d.I\\x0c\\x9d*Rm\\x03R\\xd6\\xbb\\xe2\\x82D\\x94\\x85\\xad1\\x82T\\x93\\x02\\xfb=\\x88O\\x94\"\\x12\\x97]j:\\xe9\\xbf\\xd0\\x95\\xd2\\x9b\\\\(\\xb5!r]\\xcb\\xa7\\xb0\\x85M\\x91\\xecI.\\x1f&y\\x15\\x93\\xa4D\\xe4\\xa6E\\xc3\\x96H\\x1f\\x15\\x8d\\x86\\x8c$\\xd9\\x85rq\\xa4\\x7ff1\\xfc\\x8f\\x85\\xbbJ\\x83\\xe6<\\x88\\xa1A\\xbe\\x88\\xdf\\xad\\xa9\\xa3\\xfcA\\x12\\xb5Jr+~q\\xb2<\\x03\\xa9{\\xf2Q\\xc4\\t\\x9e\\x8a\\xb2K\\xb0W\\x89\\x1f\\xd7b\\x1c\\xe9 \\xdd\\x10$\\x97ao +>\\xf6\\xf0%o\\xe8\\xe8T\\xa2k\\xb5%\\xf4^\\x0c=0\\x12\\x93\\x05\\x96\\xe6\\xae\\x1d\\xf6\\x0e\\x8b2\\xcc\\x0c\\xee>\\x9aA#\\x99\\xc2\\xe6\\xa5\\xdef\\xec\\xb6H\\xf2@\\x9cu\\xc8\\xdb\\xb9~\\x82\\xd1\\xc0\\x9e\\xe5O\\xd1\\n&\\xf6c$?B\\x00\\xa1&\\t|\\x11\\xb2\\x99\\xe9\\xcb$\\xa5\\x94 J\\xecI\\x11\\xc2BA\\x80\\xe8\\x12$hu\\xc3hBE?\\x9b@\\xf9\\x89\\xf9\\xc8\\x9d\\xcd\\xdbKW\\xdfD\\x94\\xb6R\\x15\\xf9^\\xacQ\\x92F$\\xf9\\x16\\xe0\\xd9\\xfb\\x06n\\xb32B\\xe8\\x97e\\xbc\\xec{2\\xe2\\x1fX#\\xa0\\x05\\n\\x83F2\\xbf\\xf8,\\xcf\\x1cQ\\x12\\xf4\\xed\\xc2Y\\x17\\xf27\\xcb\\xd2\\x97;*\\xacWL\\x1a\\xff\\x00p\\x8eL\\xb4D\\xa0\\xb2?\\r\\xfc\\x08\\x1bt\\x97d\\x91\\x8d\\xb8\\x19\\xf937\\xca\\xa4\\x7fP\\x8a)\\x17\\xa8\\xd2Y\\xd4\\x928UB\\'*\\xa2\\xe1\\xf9\\x0c\\xd8\\xf4\\x88.\\x10\\xdf \\x8d\\x02Ck\\xbd*\\x88\\xf0&E8\\x1b\\x14<\\xb8^\\xc2_\\x08\\x8a\\xcce+&\\xdf~\\x04\\xdd\\x85\\nKWT]}k\\x1a\\xe4\\xca\\xb9#\\x19\\xf2G\\x93IXl\\xeaLU$\\xab\\t\\xfd\\x95\\xd3,\\x99\\xe8\\xa1\\xddO!#\\xa8\\xd7\\\\\\xa7\\x82\\x1e\\xd4\\xeb(\\xc2\\x04\\x92n\\x08\\x90\\xcd\\xf6\\xac\\x1eOBJe/4=\"I\\x13\\xe5\\x0f\\xf4\"\\x8c\\xac\\x12S\\xb3\\xb2z\\xd9\\x82\\x14\\x107s\\xfcQ2\\xbfg\\x88\\x1d\\x8a^\\x115\\xd2\\x16\\x90\\x87\\xa2\\xceG\\x89\\x1f\\xf1\\x8ed0\\x1fn*\\x1ddq}\\x8b\\x98\\x9d\\xb9\\x1d\\x10\\x863!%\\xac\\x04\\x91\\xb0i\\x92\\xfa\\'Y\\xd6\\x84\\n\\x7f\\xfa\\x1e`\\x83\\x19\\xf9M\\x14H\\xf6\\x8a\\x88\\x11*\\x83\\x19\\x1a\\xc5\\xbbHz\\x16\\xa8\\n\\xe1\\xae\\xceN\\x00\\x10\\x8d\\x819\\x08F\\xa2\\x15UG\\xe4aE8\\xdc\\xb6&e\\x0eJ\\xfe\\xe1\\x0c\\x83n\\xf2\\xc1nd\\xe1H\\x93VJ_DA\\x0eHq\\xac\\xbdzU\\xf8\\x17SA\\x08(@\\x9c\\xfa\\xfd\\x92\\xb7i\\xb24Z\\xc1\\xf9p\\x18\\xf3\\x91\\n=\\t2\\x04L-\\xbb\\xa6\\x7f\\xb2\\x9f\\xe8e*\\xb4\\xd6\\xad\\x0c\\x8de?\\x0c\\xf2\\x92\\\\T\\x9f\\xc3\\xfa\\xd1\\x1f\\xe8 \\x81*B\\xd6H)\\xb2\\xf2\\xe2\\x84yvL\\x08_\\xe5\\x05Hr\\xed\\xc7\\x13\\x0f\\xd4\\x15\\x95\\xc8\\x8d\\xaa\\x91<\\x8f\\x19K\\xc5\\x88#\\x1fd\\xeb$\\xc1\\x0c\\x83\\xde\\x0f^ \\x98\\xb2\\x12y\\xb7\\x05\\xfb\\xd9,\\x91-(\\'.\\'\"\\x0e\\xe6|\\xa5\\x8e\\xe4\\xe0\\xbe\\xca%\\xab\\xecY\\xa2YtL\\x10\\xa4QH\\xa9V\\'i%\\xb5\\x14\\xd7\\x0f#0p\\xc7#\\r\\')\\xf4WK\\x8b\\x9c\\x91\\xde\\xff\\x00\"\\x9e\\tK\\x8dR\\'\\n\\xbaI\\x05vf4U7\\x87\\xd8\\xd1\\x85\\xbe\\xc4\\x12\\xbd\\xc4\\x0f6Ki&!I\\x85\\x07.(\\x1b\\x93w\\xf0\\x0b;b\\xf8\\xe8bV\\xb5\\xc8.\\x94\\x08_\\xd8\\x17\\x15\\x8a\\nJ\\x9bP\\xae\\x95\\xf6\\xb4_w\\xf6\\xca\\t\\x1a\\xbciR\\xba(P\\xa6\\x90\\x84z\\x12\\xa4\\xb1\\xb5\\xb6\\xda\\xad$j&\\xd0\\x82\\xaf\\xb2\\xfe\\x86\\x03 \\x97\\xda;\\x12\\x8f\\xd8\\x9fi\\x10\\xd2\\x9a_O\\xff\\xda\\x00\\x08\\x01\\x02\\x02\\x03?\\x10\\xd1IC\\x1b\\x88\\x10\\x9cSI+C:\\xa3^\\xcb\\xf5!G\\xa5\\x15\\xd2Ze\\xbd\\xaa\\xe2\\xc0\\x96\\x88V\\x97\\x04\\xc5\\x04B\\xd1B77R4H\\xc1oKv9\\x86\\xb0>\\x07\\xc381\\x90H\\x9a\\xd0J\\xd0)\\x07\\x0bI\\xd8\\x0e\\x0bV\\xb2X\\x1e!\\x1c\\x9ba\\x05\\xd2\\xcc\\x96\\xd4\\x94\\xd8\\x89\\x0ch\\xc0\\x7f\\x14\\xc1\\x03.\\x8b\\x84\\x067\\xbd?e$\\x0fL\\x11G\\xc3\\x01\\tmn\\x1f\\x81*\\x98\\xc8\\xdcv\\x854t\\x82\\xc2\\x11a\\x1cC\\xd8(\\x90\\xd3\\x87\\xa4\"h2J\\x8c\\x84`\\x95%\\x92j\\x82!!\\xaeNa\\x08\\x84\\xd28\\xa8\\x92\\xb4\\x17B\\x91J5U\\x14\\x989\\x15\\xd0zE\\x16\\xe4[/\\xc9b\\x83;\\x8d\\x86F\\xe4#\\xf6\\x1b\\x1b\\xce\\x93}$Q\\x93R\\xc8_\"A\\xb2G\\xb4hk\\x9d@T0\\xf2\\x9d\\xad\\xe8\\x7fm\\x95\\xd3R\\x9bk#\\xb7FQ\\x1a4\\xe4Uh\\xab\\x9d\\xb3\\x82\\xf6$.-.DgEV\\x8b\\xefS\\xa5u\\xff\\xda\\x00\\x08\\x01\\x03\\x02\\x03?\\x10\\x8d\\x88Obw\\xb6\\x08{d\\xb6\\xb0\\xd4\\xb9\\xd5N\\xd4\\x84\\xc9\\x1e\\x88\\x0e05\\x96\\xa8K+\\x1co\\xf7\\xa1\\x83\\xacAd\\\\hd\\'\\xa2\\x10\\xb4\\x8a\\xf0d[\\xb1g\\xd0\\x9b\\xc1j\\\\\\x061\\xd8}\\x8f\\xb1\\xf7\\xab\\xb1\\x8c\\x95\\xc2p/\\x05\\x84\\x99\\xc5\\x12U\\x1c\\x06\\xc0\\xb8\\xd5\\xec\\x8fc\\x81\\xdd\\x16\\x8c\\xe8vrQi\\xd9\\xde\\xeb\\xf4V\\x0b\\x13\\\\\\xbc\\xbb?\\x1f\\r\\xd3\\xa4\\xd8Q\\n\\xa1\\x90\\xe0\\xc2\\x88)\"\\xd3N\\xb7\\xb5\\x88\\x17\\xbd(z\\xa4\\xa2^\\x87\\xbb\\x13*\\x1e\\xe4\\xce\\n.\\xd0\\x95[\\x88(B\\x9fb\\xe1\\xfd\\xe0\\xa0O\\xb2\\x99\\xca\\\\\\x0b\\x8d\"\\x9bR\\xd1\\xd4nm\\x98\\x8e\\xa2\\x84\\xbf\\x82f\\xc2F\\xb6\\xcd\\xa1\\xd8\\xda!\\x0f\\xb0tmK\\xe4\\x9a\\xb4Y\\x03\\x8c\\x0e+\\xacmy*\\x08\\xb38\\x8e\\x0c\\xae<!\\x1d\\x8c\\x9f\\x82#\\xd8\\x8a\\x074\\x8e\\x88PF\\x8e\\xcc\\x1cie\\\\e`(\\x12:\\xd5\\x8a\\xe2od\\xd3\\x92E2b\\x14$\\x95\\xb6\\xb70\\xa4iY\\x95\\xdbM\\xedI\\xd8\\xa1L\\x8fB\\x81;\\rT\\x1a\\xce\\xaan\\x88\\xc0\\xe3\\xc2\\xc0\\xba\\x9aHm\\xd5\\x07S\\xb1\\x94j\\xa6\\xea\\n\\xbd\\x15\\x1fN\\xbf\\xff\\xd9'"
      ]
     },
     "execution_count": 50,
     "metadata": {},
     "output_type": "execute_result"
    }
   ],
   "source": [
    "import os\n",
    "\n",
    "# la limite est bien atteinte Splinter me demande de lui transférer un NFT, étant un bon ami j'accepte\n",
    "\n",
    "collection.transfer(token_id1, MyKey, SplinterKey)\n",
    "\n",
    "# Splinter vérifie que le transfert a bien été effectué\n",
    "print(\"NFTs de la collection:\", collection.nftRegistry)\n",
    "\n",
    "collection.display()\n",
    "\n",
    "# Parfait maintenant Splinter veut voir l'image de son NFT\n",
    "open(os.path.join(collection.imagePath, nft1.metadata), 'rb').read()\n",
    "\n"
   ]
  }
 ],
 "metadata": {
  "kernelspec": {
   "display_name": "Python (env_Blockchain)",
   "language": "python",
   "name": "env_blockchain"
  },
  "language_info": {
   "codemirror_mode": {
    "name": "ipython",
    "version": 3
   },
   "file_extension": ".py",
   "mimetype": "text/x-python",
   "name": "python",
   "nbconvert_exporter": "python",
   "pygments_lexer": "ipython3",
   "version": "3.12.4"
  }
 },
 "nbformat": 4,
 "nbformat_minor": 2
}
