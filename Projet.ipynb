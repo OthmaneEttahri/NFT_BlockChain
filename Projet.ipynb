{
 "cells": [
  {
   "cell_type": "markdown",
   "metadata": {},
   "source": [
    "## Test et présentation du projet NFT"
   ]
  },
  {
   "cell_type": "markdown",
   "metadata": {},
   "source": [
    "#### Importations"
   ]
  },
  {
   "cell_type": "code",
   "execution_count": 9,
   "metadata": {},
   "outputs": [],
   "source": [
    "from scripts.NFT import Collection, NFT\n",
    "from scripts.timestamp import now\n",
    "import time"
   ]
  },
  {
   "cell_type": "markdown",
   "metadata": {},
   "source": [
    "#### Créer une collection"
   ]
  },
  {
   "cell_type": "code",
   "execution_count": 10,
   "metadata": {},
   "outputs": [
    {
     "data": {
      "text/plain": [
       "{'owner': 'OwnerPublicKey_1001101',\n",
       " 'limit': 4,\n",
       " 'mintingOpen': False,\n",
       " 'mintStart': None,\n",
       " 'NFTs': [],\n",
       " 'blockchain': {'type': 'Blockchain',\n",
       "  'blocks': [{'type': 'Block',\n",
       "    'issuer': '......',\n",
       "    'timestamp': 0,\n",
       "    'hash': '93ae8c7bcd3208b5...',\n",
       "    'signature': '...',\n",
       "    'index': 0,\n",
       "    'parent': '0000000000000000...',\n",
       "    'certificates': [],\n",
       "    'nonce': 0}]}}"
      ]
     },
     "execution_count": 10,
     "metadata": {},
     "output_type": "execute_result"
    }
   ],
   "source": [
    "ownerKey = \"OwnerPublicKey_1001101\"\n",
    "userKey1 = \"user1Key_1011001\"\n",
    "userKey2 = \"user2Key_0100110\"\n",
    "\n",
    "# création d'une collection\n",
    "\n",
    "collection = Collection(ownerKey, 4, 10) # remplis les champs : userPublicKey, limit et mintDuration\n",
    "\n",
    "# autorisation de user1 ( en tant que owner)\n",
    "\n",
    "collection.add_minter(userKey1, ownerKey)\n",
    "\n",
    "# affichage de la collection et test\n",
    "\n",
    "assert (userKey1 in collection.authorizedMinters) \n",
    "\n",
    "\"Success!\"\n",
    "\n",
    "\n",
    "collection.display()\n"
   ]
  },
  {
   "cell_type": "markdown",
   "metadata": {},
   "source": [
    "#### Ouverture de la période de Minting\n",
    "##### Test par utilisateur non propriétaire et utilisateur owner"
   ]
  },
  {
   "cell_type": "code",
   "execution_count": 11,
   "metadata": {},
   "outputs": [
    {
     "ename": "Exception",
     "evalue": "Pas autorisé à ouvrir le minting",
     "output_type": "error",
     "traceback": [
      "\u001b[1;31m---------------------------------------------------------------------------\u001b[0m",
      "\u001b[1;31mException\u001b[0m                                 Traceback (most recent call last)",
      "Cell \u001b[1;32mIn[11], line 3\u001b[0m\n\u001b[0;32m      1\u001b[0m \u001b[38;5;66;03m# Utilisateur non autorisé user2 par exemple\u001b[39;00m\n\u001b[1;32m----> 3\u001b[0m collection\u001b[38;5;241m.\u001b[39mopen_mint(userKey2)\n",
      "File \u001b[1;32mc:\\Users\\ettot\\Desktop\\cours\\S8\\BlockChain\\Projet\\scripts\\NFT.py:71\u001b[0m, in \u001b[0;36mCollection.open_mint\u001b[1;34m(self, userPublicKey)\u001b[0m\n\u001b[0;32m     66\u001b[0m \u001b[38;5;28;01mdef\u001b[39;00m \u001b[38;5;21mopen_mint\u001b[39m(\u001b[38;5;28mself\u001b[39m, userPublicKey):\n\u001b[0;32m     67\u001b[0m     \u001b[38;5;66;03m# ouvre la période de minting\u001b[39;00m\n\u001b[0;32m     68\u001b[0m \n\u001b[0;32m     69\u001b[0m     \u001b[38;5;66;03m# vérification de la clé de l'utilisateur\u001b[39;00m\n\u001b[0;32m     70\u001b[0m     \u001b[38;5;28;01mif\u001b[39;00m userPublicKey \u001b[38;5;241m!=\u001b[39m \u001b[38;5;28mself\u001b[39m\u001b[38;5;241m.\u001b[39mownerPublicKey:\n\u001b[1;32m---> 71\u001b[0m         \u001b[38;5;28;01mraise\u001b[39;00m \u001b[38;5;167;01mException\u001b[39;00m(\u001b[38;5;124m\"\u001b[39m\u001b[38;5;124mPas autorisé à ouvrir le minting\u001b[39m\u001b[38;5;124m\"\u001b[39m)\n\u001b[0;32m     72\u001b[0m     \u001b[38;5;28mself\u001b[39m\u001b[38;5;241m.\u001b[39mmintingOpen \u001b[38;5;241m=\u001b[39m \u001b[38;5;28;01mTrue\u001b[39;00m\n\u001b[0;32m     73\u001b[0m     \u001b[38;5;28mself\u001b[39m\u001b[38;5;241m.\u001b[39mmintStart \u001b[38;5;241m=\u001b[39m now()\n",
      "\u001b[1;31mException\u001b[0m: Pas autorisé à ouvrir le minting"
     ]
    }
   ],
   "source": [
    "# Utilisateur non autorisé user2 par exemple\n",
    "\n",
    "collection.open_mint(userKey2)\n",
    "# doit rendre une erreur\n"
   ]
  },
  {
   "cell_type": "code",
   "execution_count": 14,
   "metadata": {},
   "outputs": [
    {
     "data": {
      "text/plain": [
       "'success'"
      ]
     },
     "execution_count": 14,
     "metadata": {},
     "output_type": "execute_result"
    }
   ],
   "source": [
    "# utilisateur autorisé (owner)\n",
    "\n",
    "collection.open_mint(ownerKey)\n",
    "\n",
    "assert collection.mintingOpen == True\n",
    "\n",
    "'success'"
   ]
  },
  {
   "cell_type": "markdown",
   "metadata": {},
   "source": [
    "##### Test depassement de la durée de minting"
   ]
  },
  {
   "cell_type": "code",
   "execution_count": null,
   "metadata": {},
   "outputs": [
    {
     "name": "stdout",
     "output_type": "stream",
     "text": [
      "True\n",
      "False\n"
     ]
    }
   ],
   "source": [
    "# obligation d'utiliser check_mint_period (pas de tache en arrière plan en synchrone)\n",
    "\n",
    "collection.open_mint(ownerKey)\n",
    "print(collection.mintingOpen)\n",
    "\n",
    "time.sleep(11)\n",
    "\n",
    "collection.check_mint_period()\n",
    "print(collection.mintingOpen)\n",
    "\n"
   ]
  }
 ],
 "metadata": {
  "kernelspec": {
   "display_name": "Python (env_Blockchain)",
   "language": "python",
   "name": "env_blockchain"
  },
  "language_info": {
   "codemirror_mode": {
    "name": "ipython",
    "version": 3
   },
   "file_extension": ".py",
   "mimetype": "text/x-python",
   "name": "python",
   "nbconvert_exporter": "python",
   "pygments_lexer": "ipython3",
   "version": "3.12.4"
  }
 },
 "nbformat": 4,
 "nbformat_minor": 2
}
